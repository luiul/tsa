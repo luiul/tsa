{
 "cells": [
  {
   "cell_type": "markdown",
   "id": "11af5f33-9b97-4cdc-a823-012526b3f641",
   "metadata": {},
   "source": [
    "# NumPy"
   ]
  },
  {
   "cell_type": "markdown",
   "id": "915d1a2d-ac26-4858-aea9-26b1051f1e97",
   "metadata": {},
   "source": [
    "## Example from documentation"
   ]
  },
  {
   "cell_type": "code",
   "execution_count": 46,
   "id": "1d7efd0c-4c53-482f-833b-afd41c639fea",
   "metadata": {},
   "outputs": [
    {
     "data": {
      "text/plain": [
       "array([ 4,  8, 13])"
      ]
     },
     "execution_count": 46,
     "metadata": {},
     "output_type": "execute_result"
    }
   ],
   "source": [
    "# The standard way to import NumPy:\n",
    "import numpy as np\n",
    "\n",
    "# Create a 2-D array, set every second element in\n",
    "# some rows and find max per row:\n",
    "\n",
    "x = np.arange(15, dtype=np.int64).reshape(3, 5)\n",
    "x[1:, ::2] = -99\n",
    "x\n",
    "# array([[  0,   1,   2,   3,   4],\n",
    "#        [-99,   6, -99,   8, -99],\n",
    "#        [-99,  11, -99,  13, -99]])\n",
    "\n",
    "x.max(axis=1)\n",
    "# array([ 4,  8, 13])"
   ]
  },
  {
   "cell_type": "code",
   "execution_count": 47,
   "id": "7e0dace1-24e3-4f31-8256-0de18177d385",
   "metadata": {},
   "outputs": [
    {
     "data": {
      "text/plain": [
       "2500"
      ]
     },
     "execution_count": 47,
     "metadata": {},
     "output_type": "execute_result"
    }
   ],
   "source": [
    "# Generate normally distributed random numbers:\n",
    "rng = np.random.default_rng()\n",
    "samples = rng.normal(size=2500)\n",
    "len(samples)"
   ]
  },
  {
   "cell_type": "markdown",
   "id": "2d5ace44-4ed6-4d97-bcdd-1e2889d89646",
   "metadata": {},
   "source": [
    "## Examples from Course"
   ]
  },
  {
   "cell_type": "code",
   "execution_count": 1,
   "id": "1572be8c-1652-4402-b489-663f22205386",
   "metadata": {},
   "outputs": [],
   "source": [
    "import numpy as np"
   ]
  },
  {
   "cell_type": "code",
   "execution_count": 2,
   "id": "be9fa7fa-ce32-4ce7-bfa5-b67936a61d28",
   "metadata": {},
   "outputs": [],
   "source": [
    "l = [1,2,3]"
   ]
  },
  {
   "cell_type": "code",
   "execution_count": 3,
   "id": "ece75f1b-c879-44e6-ab68-cdbe51944f0e",
   "metadata": {},
   "outputs": [
    {
     "data": {
      "text/plain": [
       "list"
      ]
     },
     "execution_count": 3,
     "metadata": {},
     "output_type": "execute_result"
    }
   ],
   "source": [
    "type(l)"
   ]
  },
  {
   "cell_type": "code",
   "execution_count": 6,
   "id": "73eff128-1891-4aed-8bee-364a2d905f95",
   "metadata": {},
   "outputs": [],
   "source": [
    "arr = np.array(l)"
   ]
  },
  {
   "cell_type": "code",
   "execution_count": 7,
   "id": "35d1ef50-3d44-4902-b533-e169027c25ec",
   "metadata": {},
   "outputs": [
    {
     "data": {
      "text/plain": [
       "list"
      ]
     },
     "execution_count": 7,
     "metadata": {},
     "output_type": "execute_result"
    }
   ],
   "source": [
    "type(l)"
   ]
  },
  {
   "cell_type": "code",
   "execution_count": 8,
   "id": "678e2742-6ba2-4287-acb2-35903ddb08a3",
   "metadata": {},
   "outputs": [
    {
     "data": {
      "text/plain": [
       "numpy.ndarray"
      ]
     },
     "execution_count": 8,
     "metadata": {},
     "output_type": "execute_result"
    }
   ],
   "source": [
    "type(arr)"
   ]
  },
  {
   "cell_type": "code",
   "execution_count": 14,
   "id": "7812c602-aa85-4209-afcb-c7ef4dd856c1",
   "metadata": {},
   "outputs": [],
   "source": [
    "l = [[1,2,3],[4,5,6]]"
   ]
  },
  {
   "cell_type": "code",
   "execution_count": 15,
   "id": "26a89f82-3b0d-48ca-9fe7-72fc1a68c535",
   "metadata": {},
   "outputs": [],
   "source": [
    "m = np.array(l)"
   ]
  },
  {
   "cell_type": "code",
   "execution_count": 16,
   "id": "d01fe722-35bc-4437-9745-c9e52d321a75",
   "metadata": {},
   "outputs": [
    {
     "data": {
      "text/plain": [
       "array([[1, 2, 3],\n",
       "       [4, 5, 6]])"
      ]
     },
     "execution_count": 16,
     "metadata": {},
     "output_type": "execute_result"
    }
   ],
   "source": [
    "# 2-dim array\n",
    "m"
   ]
  },
  {
   "cell_type": "code",
   "execution_count": 17,
   "id": "7a6fbd92-1eda-422a-855b-87591de2fe54",
   "metadata": {},
   "outputs": [
    {
     "data": {
      "text/plain": [
       "(2, 3)"
      ]
     },
     "execution_count": 17,
     "metadata": {},
     "output_type": "execute_result"
    }
   ],
   "source": [
    "m.shape"
   ]
  },
  {
   "cell_type": "code",
   "execution_count": 20,
   "id": "030e024f-c29e-46c9-9ed4-94cc45763db6",
   "metadata": {},
   "outputs": [
    {
     "data": {
      "text/plain": [
       "array([0, 1, 2, 3, 4, 5, 6, 7, 8, 9])"
      ]
     },
     "execution_count": 20,
     "metadata": {},
     "output_type": "execute_result"
    }
   ],
   "source": [
    "np.arange(0,10)"
   ]
  },
  {
   "cell_type": "code",
   "execution_count": 22,
   "id": "1414ebae-919f-427d-8dc0-1737b3f28e3c",
   "metadata": {},
   "outputs": [
    {
     "data": {
      "text/plain": [
       "array([[5., 5., 5.],\n",
       "       [5., 5., 5.]])"
      ]
     },
     "execution_count": 22,
     "metadata": {},
     "output_type": "execute_result"
    }
   ],
   "source": [
    "np.zeros((2,3)) + 5"
   ]
  },
  {
   "cell_type": "code",
   "execution_count": 51,
   "id": "bb35c02b-42e8-44e1-972a-cf3b62d58f6b",
   "metadata": {},
   "outputs": [
    {
     "data": {
      "text/plain": [
       "array([[1., 1., 1.],\n",
       "       [1., 1., 1.]])"
      ]
     },
     "execution_count": 51,
     "metadata": {},
     "output_type": "execute_result"
    }
   ],
   "source": [
    "np.ones((2,3))"
   ]
  },
  {
   "cell_type": "code",
   "execution_count": 61,
   "id": "0cb4dc41-b840-469e-a627-e9c6c2dc218c",
   "metadata": {},
   "outputs": [
    {
     "data": {
      "text/plain": [
       "array([ 1,  2,  3,  4,  5,  6,  7,  8,  9, 10])"
      ]
     },
     "execution_count": 61,
     "metadata": {},
     "output_type": "execute_result"
    }
   ],
   "source": [
    "np.linspace(1,10,10,dtype=int)"
   ]
  },
  {
   "cell_type": "code",
   "execution_count": 69,
   "id": "75e8b2a2-b0dd-444b-8bbb-0c3724bbe8d8",
   "metadata": {},
   "outputs": [
    {
     "data": {
      "text/plain": [
       "array([[1., 0., 0., 1.]])"
      ]
     },
     "execution_count": 69,
     "metadata": {},
     "output_type": "execute_result"
    }
   ],
   "source": [
    "np.eye(2)"
   ]
  },
  {
   "cell_type": "markdown",
   "id": "0ab25eba-8448-4757-9186-b079defa97e1",
   "metadata": {},
   "source": [
    "## Rand Numbers"
   ]
  },
  {
   "cell_type": "code",
   "execution_count": 105,
   "id": "c2512125-e6d6-4331-8de5-44c10fb95ce5",
   "metadata": {},
   "outputs": [
    {
     "data": {
      "text/plain": [
       "array([[0.77395605, 0.43887844],\n",
       "       [0.85859792, 0.69736803]])"
      ]
     },
     "execution_count": 105,
     "metadata": {},
     "output_type": "execute_result"
    }
   ],
   "source": [
    "rng = np.random.default_rng(42)\n",
    "rng.uniform(size=(2,2))"
   ]
  },
  {
   "cell_type": "code",
   "execution_count": 109,
   "id": "3faee2fa-4a39-4ced-8557-98e6c6d1122b",
   "metadata": {},
   "outputs": [
    {
     "data": {
      "text/plain": [
       "array([[ 0.30471708, -1.03998411],\n",
       "       [ 0.7504512 ,  0.94056472]])"
      ]
     },
     "execution_count": 109,
     "metadata": {},
     "output_type": "execute_result"
    }
   ],
   "source": [
    "rng = np.random.default_rng(42)\n",
    "rng.standard_normal((2,2))"
   ]
  },
  {
   "cell_type": "code",
   "execution_count": 110,
   "id": "9f04103c-d5fd-443d-9cc6-777d0fe7a39d",
   "metadata": {},
   "outputs": [
    {
     "data": {
      "text/plain": [
       "array([[10.60943416,  7.92003179],\n",
       "       [11.50090239, 11.88112943]])"
      ]
     },
     "execution_count": 110,
     "metadata": {},
     "output_type": "execute_result"
    }
   ],
   "source": [
    "rng = np.random.default_rng(42)\n",
    "rng.normal(10,2,(2,2))"
   ]
  },
  {
   "cell_type": "code",
   "execution_count": 150,
   "id": "08cb4e0b-f04e-4f4f-8381-6e4d5b2742dc",
   "metadata": {},
   "outputs": [
    {
     "data": {
      "text/plain": [
       "4"
      ]
     },
     "execution_count": 150,
     "metadata": {},
     "output_type": "execute_result"
    }
   ],
   "source": [
    "rng.integers(1,11)"
   ]
  },
  {
   "cell_type": "code",
   "execution_count": 151,
   "id": "1a383237-e380-4dea-acb4-0211c712a150",
   "metadata": {},
   "outputs": [],
   "source": [
    "arr = np.arange(25)"
   ]
  },
  {
   "cell_type": "code",
   "execution_count": 152,
   "id": "64809e1d-cc3e-47e6-8026-6587dfd893df",
   "metadata": {},
   "outputs": [],
   "source": [
    "rarr = rng.integers(0,50,10)"
   ]
  },
  {
   "cell_type": "code",
   "execution_count": 155,
   "id": "75065946-300b-4f0a-af55-67e087c98ee0",
   "metadata": {},
   "outputs": [
    {
     "data": {
      "text/plain": [
       "(25,)"
      ]
     },
     "execution_count": 155,
     "metadata": {},
     "output_type": "execute_result"
    }
   ],
   "source": [
    "arr.shape"
   ]
  },
  {
   "cell_type": "code",
   "execution_count": 156,
   "id": "18436b59-1ebc-4d2d-a786-5885214c8358",
   "metadata": {},
   "outputs": [
    {
     "data": {
      "text/plain": [
       "array([[ 0,  1,  2,  3,  4],\n",
       "       [ 5,  6,  7,  8,  9],\n",
       "       [10, 11, 12, 13, 14],\n",
       "       [15, 16, 17, 18, 19],\n",
       "       [20, 21, 22, 23, 24]])"
      ]
     },
     "execution_count": 156,
     "metadata": {},
     "output_type": "execute_result"
    }
   ],
   "source": [
    "arr.reshape(5,5)"
   ]
  },
  {
   "cell_type": "code",
   "execution_count": 162,
   "id": "6a4d1b99-3e7e-42b7-b7a4-1592f3158514",
   "metadata": {},
   "outputs": [
    {
     "data": {
      "text/plain": [
       "array([ 3, 48, 22, 44, 33, 38, 37,  9, 18, 23])"
      ]
     },
     "execution_count": 162,
     "metadata": {},
     "output_type": "execute_result"
    }
   ],
   "source": [
    "rarr"
   ]
  },
  {
   "cell_type": "code",
   "execution_count": 160,
   "id": "66d66e03-7724-4b7d-aae3-c00ecf135f41",
   "metadata": {},
   "outputs": [
    {
     "data": {
      "text/plain": [
       "3"
      ]
     },
     "execution_count": 160,
     "metadata": {},
     "output_type": "execute_result"
    }
   ],
   "source": [
    "rarr.min()"
   ]
  },
  {
   "cell_type": "code",
   "execution_count": 161,
   "id": "75c4096b-612e-498b-a9c1-8f5963f4d45f",
   "metadata": {},
   "outputs": [
    {
     "data": {
      "text/plain": [
       "0"
      ]
     },
     "execution_count": 161,
     "metadata": {},
     "output_type": "execute_result"
    }
   ],
   "source": [
    "rarr.argmin()"
   ]
  },
  {
   "cell_type": "code",
   "execution_count": 164,
   "id": "ff6ec7c1-4856-4d12-97d0-a9bf21341efd",
   "metadata": {},
   "outputs": [
    {
     "data": {
      "text/plain": [
       "dtype('int64')"
      ]
     },
     "execution_count": 164,
     "metadata": {},
     "output_type": "execute_result"
    }
   ],
   "source": [
    "rarr.dtype"
   ]
  },
  {
   "cell_type": "markdown",
   "id": "9f7f1d99-1430-429b-a8af-687bf543bb93",
   "metadata": {},
   "source": [
    "## Indexing and Selection"
   ]
  },
  {
   "cell_type": "code",
   "execution_count": 192,
   "id": "fb404fef-d048-4fc7-9c92-2350af8ebf96",
   "metadata": {},
   "outputs": [],
   "source": [
    "arr = rng.integers(1,11,10)"
   ]
  },
  {
   "cell_type": "code",
   "execution_count": 169,
   "id": "bd5c4ed1-5b7f-4ee7-9fde-f83f943a0afb",
   "metadata": {},
   "outputs": [
    {
     "data": {
      "text/plain": [
       "array([ 5,  4, 10,  4,  1,  5,  8,  2,  5,  2])"
      ]
     },
     "execution_count": 169,
     "metadata": {},
     "output_type": "execute_result"
    }
   ],
   "source": [
    "arr"
   ]
  },
  {
   "cell_type": "code",
   "execution_count": 170,
   "id": "2dbfa3bd-d2e3-4140-9f42-b7c527a89bb0",
   "metadata": {},
   "outputs": [
    {
     "data": {
      "text/plain": [
       "5"
      ]
     },
     "execution_count": 170,
     "metadata": {},
     "output_type": "execute_result"
    }
   ],
   "source": [
    "arr[0]"
   ]
  },
  {
   "cell_type": "code",
   "execution_count": 171,
   "id": "25c8194a-6b23-4b0e-aa9e-6f5deb6b7aee",
   "metadata": {},
   "outputs": [
    {
     "data": {
      "text/plain": [
       "array([ 4, 10,  4,  1])"
      ]
     },
     "execution_count": 171,
     "metadata": {},
     "output_type": "execute_result"
    }
   ],
   "source": [
    "arr[1:5:]"
   ]
  },
  {
   "cell_type": "code",
   "execution_count": 172,
   "id": "a14b225e-53fc-43bb-97ae-c766b7cb1088",
   "metadata": {},
   "outputs": [
    {
     "data": {
      "text/plain": [
       "array([ 2,  5,  2,  8,  5,  1,  4, 10,  4,  5])"
      ]
     },
     "execution_count": 172,
     "metadata": {},
     "output_type": "execute_result"
    }
   ],
   "source": [
    "arr[::-1]"
   ]
  },
  {
   "cell_type": "code",
   "execution_count": 175,
   "id": "7a6758ca-aef2-42b6-9d61-7ea4bc2a4373",
   "metadata": {},
   "outputs": [
    {
     "data": {
      "text/plain": [
       "array([3.75, 3.5 , 5.  , 3.5 , 2.75, 3.75, 4.5 , 3.  , 3.75, 3.  ])"
      ]
     },
     "execution_count": 175,
     "metadata": {},
     "output_type": "execute_result"
    }
   ],
   "source": [
    "(arr+10)/2**2"
   ]
  },
  {
   "cell_type": "code",
   "execution_count": 181,
   "id": "417e7c16-50f7-4031-be6b-450a665026b9",
   "metadata": {},
   "outputs": [
    {
     "data": {
      "text/plain": [
       "array([ 5,  4, 10,  4,  1,  5,  8,  2,  5,  2])"
      ]
     },
     "execution_count": 181,
     "metadata": {},
     "output_type": "execute_result"
    }
   ],
   "source": [
    "arr"
   ]
  },
  {
   "cell_type": "code",
   "execution_count": 182,
   "id": "9725ebe6-22af-4949-9a86-8b93ab3a6007",
   "metadata": {},
   "outputs": [],
   "source": [
    "s = arr[0:5:]"
   ]
  },
  {
   "cell_type": "code",
   "execution_count": 183,
   "id": "e4936080-6d53-44d4-b6c7-4c6949faac7a",
   "metadata": {},
   "outputs": [],
   "source": [
    "s[::] = 99"
   ]
  },
  {
   "cell_type": "code",
   "execution_count": 184,
   "id": "0d24077a-ff5b-432c-9636-4c382b5859a4",
   "metadata": {},
   "outputs": [
    {
     "data": {
      "text/plain": [
       "array([99, 99, 99, 99, 99])"
      ]
     },
     "execution_count": 184,
     "metadata": {},
     "output_type": "execute_result"
    }
   ],
   "source": [
    "s"
   ]
  },
  {
   "cell_type": "code",
   "execution_count": 185,
   "id": "e6f2564c-5931-4580-86cc-980703f7ec05",
   "metadata": {},
   "outputs": [
    {
     "data": {
      "text/plain": [
       "array([99, 99, 99, 99, 99,  5,  8,  2,  5,  2])"
      ]
     },
     "execution_count": 185,
     "metadata": {},
     "output_type": "execute_result"
    }
   ],
   "source": [
    "arr"
   ]
  },
  {
   "cell_type": "code",
   "execution_count": 197,
   "id": "441ec658-dcdf-4e2a-9178-1a258ae87b5f",
   "metadata": {},
   "outputs": [],
   "source": [
    "arr = arr.reshape(2,5)"
   ]
  },
  {
   "cell_type": "code",
   "execution_count": 198,
   "id": "733599b2-c8f1-4b49-adb1-85ec5b3d165d",
   "metadata": {},
   "outputs": [
    {
     "data": {
      "text/plain": [
       "array([[ 7,  5,  4,  3,  6],\n",
       "       [ 7, 10,  5,  2,  9]])"
      ]
     },
     "execution_count": 198,
     "metadata": {},
     "output_type": "execute_result"
    }
   ],
   "source": [
    "arr"
   ]
  },
  {
   "cell_type": "code",
   "execution_count": 204,
   "id": "10932de5-82ea-4648-82d2-68f354de2842",
   "metadata": {},
   "outputs": [
    {
     "data": {
      "text/plain": [
       "array([[10,  5,  2,  9]])"
      ]
     },
     "execution_count": 204,
     "metadata": {},
     "output_type": "execute_result"
    }
   ],
   "source": [
    "arr[1::,1::]"
   ]
  },
  {
   "cell_type": "code",
   "execution_count": 205,
   "id": "5097dfc0-539f-4fe7-966f-514a0870f295",
   "metadata": {},
   "outputs": [
    {
     "data": {
      "text/plain": [
       "array([7, 8, 1, 4, 8, 9, 5, 9, 9, 4])"
      ]
     },
     "execution_count": 205,
     "metadata": {},
     "output_type": "execute_result"
    }
   ],
   "source": [
    "arr = rng.integers(1,11,10)\n",
    "arr"
   ]
  },
  {
   "cell_type": "code",
   "execution_count": 207,
   "id": "d88010fa-4555-4cb8-9d86-ff3e30b24bd9",
   "metadata": {},
   "outputs": [],
   "source": [
    "b_arr = arr > 4"
   ]
  },
  {
   "cell_type": "code",
   "execution_count": 208,
   "id": "f9e7c476-9fa6-44c2-9870-c0e55071f0ac",
   "metadata": {},
   "outputs": [
    {
     "data": {
      "text/plain": [
       "array([7, 8, 8, 9, 5, 9, 9])"
      ]
     },
     "execution_count": 208,
     "metadata": {},
     "output_type": "execute_result"
    }
   ],
   "source": [
    "arr[b_arr]"
   ]
  },
  {
   "cell_type": "markdown",
   "id": "610a149e-2d05-48c3-bd6a-00d6a6afcd69",
   "metadata": {},
   "source": [
    "## NumPy Operations"
   ]
  },
  {
   "cell_type": "code",
   "execution_count": null,
   "id": "71b6d4ef-ff7f-44c1-a25c-f4e9d046d9b8",
   "metadata": {},
   "outputs": [],
   "source": []
  }
 ],
 "metadata": {
  "kernelspec": {
   "display_name": "Python 3 (ipykernel)",
   "language": "python",
   "name": "python3"
  },
  "language_info": {
   "codemirror_mode": {
    "name": "ipython",
    "version": 3
   },
   "file_extension": ".py",
   "mimetype": "text/x-python",
   "name": "python",
   "nbconvert_exporter": "python",
   "pygments_lexer": "ipython3",
   "version": "3.7.12"
  },
  "toc-autonumbering": true,
  "toc-showmarkdowntxt": false,
  "toc-showtags": false
 },
 "nbformat": 4,
 "nbformat_minor": 5
}
