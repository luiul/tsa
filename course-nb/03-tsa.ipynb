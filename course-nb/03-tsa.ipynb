{
 "cells": [
  {
   "cell_type": "markdown",
   "id": "06b7455e-7cf8-44e0-8073-728f3a9b9c88",
   "metadata": {},
   "source": [
    "# Time Series with Pandas"
   ]
  },
  {
   "cell_type": "code",
   "execution_count": 3,
   "id": "337913f5-63cd-4f5a-8dbd-407f631e290a",
   "metadata": {},
   "outputs": [],
   "source": [
    "import numpy as np\n",
    "import pandas as pd\n",
    "from datetime import datetime"
   ]
  },
  {
   "cell_type": "code",
   "execution_count": 4,
   "id": "eadb2329-7a47-4148-a0bd-97f3e54a74a8",
   "metadata": {},
   "outputs": [],
   "source": [
    "y = 2020\n",
    "m = 1\n",
    "d = 2\n",
    "h = 13\n",
    "mm = 30\n",
    "s = 15"
   ]
  },
  {
   "cell_type": "code",
   "execution_count": 5,
   "id": "1fa826e4-525a-4302-b2fc-d428fdc3af8e",
   "metadata": {},
   "outputs": [],
   "source": [
    "date = datetime(y, m, d)"
   ]
  },
  {
   "cell_type": "code",
   "execution_count": 6,
   "id": "3682c8de-8505-43a8-8710-f0a6212fa80e",
   "metadata": {},
   "outputs": [
    {
     "data": {
      "text/plain": [
       "datetime.datetime(2020, 1, 2, 0, 0)"
      ]
     },
     "execution_count": 6,
     "metadata": {},
     "output_type": "execute_result"
    }
   ],
   "source": [
    "date"
   ]
  },
  {
   "cell_type": "code",
   "execution_count": 8,
   "id": "ae897340-966e-4579-85a2-77dc5c5fe355",
   "metadata": {},
   "outputs": [],
   "source": [
    "date2 = datetime(y, m, d, h, mm, s)"
   ]
  },
  {
   "cell_type": "code",
   "execution_count": 11,
   "id": "3e9929dc-2654-4361-b519-d6a7e93a2e7c",
   "metadata": {},
   "outputs": [
    {
     "data": {
      "text/plain": [
       "datetime.datetime"
      ]
     },
     "execution_count": 11,
     "metadata": {},
     "output_type": "execute_result"
    }
   ],
   "source": [
    "type(date2)"
   ]
  },
  {
   "cell_type": "code",
   "execution_count": 13,
   "id": "d31a5ddb-0ea1-4f37-8e17-bc60f1dcbddc",
   "metadata": {},
   "outputs": [
    {
     "data": {
      "text/plain": [
       "array(['2020-03-15', '2020-03-16', '2020-03-17'], dtype='<U10')"
      ]
     },
     "execution_count": 13,
     "metadata": {},
     "output_type": "execute_result"
    }
   ],
   "source": [
    "np.array('2020-03-15 2020-03-16 2020-03-17'.split())"
   ]
  },
  {
   "cell_type": "code",
   "execution_count": 14,
   "id": "e29ad32c-a8bc-49f5-beda-93fab9514928",
   "metadata": {},
   "outputs": [
    {
     "data": {
      "text/plain": [
       "array(['2020-03-15', '2020-03-16', '2020-03-17'], dtype='datetime64[D]')"
      ]
     },
     "execution_count": 14,
     "metadata": {},
     "output_type": "execute_result"
    }
   ],
   "source": [
    "np.array('2020-03-15 2020-03-16 2020-03-17'.split(), dtype='datetime64')"
   ]
  },
  {
   "cell_type": "code",
   "execution_count": 15,
   "id": "695fc34b-870e-4d03-a559-d366583f41d3",
   "metadata": {},
   "outputs": [
    {
     "data": {
      "text/plain": [
       "array(['2018-06-01', '2018-06-08', '2018-06-15', '2018-06-22'],\n",
       "      dtype='datetime64[D]')"
      ]
     },
     "execution_count": 15,
     "metadata": {},
     "output_type": "execute_result"
    }
   ],
   "source": [
    "np.arange('2018-06-01', '2018-06-23', 7, dtype='datetime64[D]')"
   ]
  },
  {
   "cell_type": "code",
   "execution_count": 21,
   "id": "e2fe14d2-4308-4986-b2ad-d6c00c3e3ddd",
   "metadata": {},
   "outputs": [
    {
     "data": {
      "text/plain": [
       "DatetimeIndex(['2020-01-01', '2020-01-02', '2020-01-03', '2020-01-04',\n",
       "               '2020-01-05', '2020-01-06', '2020-01-07'],\n",
       "              dtype='datetime64[ns]', freq='D')"
      ]
     },
     "execution_count": 21,
     "metadata": {},
     "output_type": "execute_result"
    }
   ],
   "source": [
    "pd.date_range('2020-01-01', periods=7, freq='D')"
   ]
  },
  {
   "cell_type": "code",
   "execution_count": 20,
   "id": "0fd7c99c-7771-47e0-94f6-3fb5d0ee5152",
   "metadata": {},
   "outputs": [
    {
     "data": {
      "text/plain": [
       "DatetimeIndex(['2018-01-02', '2018-01-03'], dtype='datetime64[ns]', freq=None)"
      ]
     },
     "execution_count": 20,
     "metadata": {},
     "output_type": "execute_result"
    }
   ],
   "source": [
    "pd.to_datetime(['1/2/2018', '1/3/2018'])"
   ]
  },
  {
   "cell_type": "code",
   "execution_count": 23,
   "id": "6da2f08f-784f-4db9-8cf7-90bc51a6600c",
   "metadata": {},
   "outputs": [
    {
     "data": {
      "text/plain": [
       "DatetimeIndex(['2018-02-01', '2018-03-01'], dtype='datetime64[ns]', freq=None)"
      ]
     },
     "execution_count": 23,
     "metadata": {},
     "output_type": "execute_result"
    }
   ],
   "source": [
    "pd.to_datetime(['2/1/2018', '3/1/2018'])"
   ]
  },
  {
   "cell_type": "code",
   "execution_count": 25,
   "id": "4717e73a-3159-43f1-8301-5d5b18683bdf",
   "metadata": {},
   "outputs": [
    {
     "data": {
      "text/plain": [
       "DatetimeIndex(['2018-01-02', '2018-01-03'], dtype='datetime64[ns]', freq=None)"
      ]
     },
     "execution_count": 25,
     "metadata": {},
     "output_type": "execute_result"
    }
   ],
   "source": [
    "pd.to_datetime(['2/1/2018', '3/1/2018'], format='%d/%m/%Y')"
   ]
  },
  {
   "cell_type": "code",
   "execution_count": 26,
   "id": "ce52235e-8cee-4612-b4a5-eb15758888f7",
   "metadata": {},
   "outputs": [],
   "source": [
    "rng = np.random.default_rng(42)"
   ]
  },
  {
   "cell_type": "code",
   "execution_count": 31,
   "id": "fadd13c3-5ebe-4935-ad43-94947b4f429e",
   "metadata": {},
   "outputs": [
    {
     "data": {
      "text/html": [
       "<div>\n",
       "<style scoped>\n",
       "    .dataframe tbody tr th:only-of-type {\n",
       "        vertical-align: middle;\n",
       "    }\n",
       "\n",
       "    .dataframe tbody tr th {\n",
       "        vertical-align: top;\n",
       "    }\n",
       "\n",
       "    .dataframe thead th {\n",
       "        text-align: right;\n",
       "    }\n",
       "</style>\n",
       "<table border=\"1\" class=\"dataframe\">\n",
       "  <thead>\n",
       "    <tr style=\"text-align: right;\">\n",
       "      <th></th>\n",
       "      <th>A</th>\n",
       "      <th>B</th>\n",
       "    </tr>\n",
       "  </thead>\n",
       "  <tbody>\n",
       "    <tr>\n",
       "      <th>2020-01-01</th>\n",
       "      <td>0.066031</td>\n",
       "      <td>1.127241</td>\n",
       "    </tr>\n",
       "    <tr>\n",
       "      <th>2020-01-02</th>\n",
       "      <td>0.467509</td>\n",
       "      <td>-0.859292</td>\n",
       "    </tr>\n",
       "    <tr>\n",
       "      <th>2020-01-03</th>\n",
       "      <td>0.368751</td>\n",
       "      <td>-0.958883</td>\n",
       "    </tr>\n",
       "  </tbody>\n",
       "</table>\n",
       "</div>"
      ],
      "text/plain": [
       "                   A         B\n",
       "2020-01-01  0.066031  1.127241\n",
       "2020-01-02  0.467509 -0.859292\n",
       "2020-01-03  0.368751 -0.958883"
      ]
     },
     "execution_count": 31,
     "metadata": {},
     "output_type": "execute_result"
    }
   ],
   "source": [
    "data = rng.standard_normal((3, 2))\n",
    "cols = list('AB')\n",
    "idx = pd.date_range('2020-01-01', periods=3, freq='D')\n",
    "\n",
    "df = pd.DataFrame(data, index=idx, columns=cols)\n",
    "df"
   ]
  },
  {
   "cell_type": "code",
   "execution_count": 32,
   "id": "0fa83102-607e-4795-b017-c4267873fe1b",
   "metadata": {},
   "outputs": [
    {
     "name": "stdout",
     "output_type": "stream",
     "text": [
      "                   A         B\n",
      "2020-01-01  0.066031  1.127241\n",
      "2020-01-02  0.467509 -0.859292\n",
      "2020-01-03  0.368751 -0.958883\n"
     ]
    }
   ],
   "source": [
    "print(df)"
   ]
  },
  {
   "cell_type": "code",
   "execution_count": 33,
   "id": "df843958-85b7-4987-b133-36b950f9ac3b",
   "metadata": {},
   "outputs": [
    {
     "data": {
      "text/plain": [
       "DatetimeIndex(['2020-01-01', '2020-01-02', '2020-01-03'], dtype='datetime64[ns]', freq='D')"
      ]
     },
     "execution_count": 33,
     "metadata": {},
     "output_type": "execute_result"
    }
   ],
   "source": [
    "df.index"
   ]
  },
  {
   "cell_type": "code",
   "execution_count": 34,
   "id": "634f8fef-0a96-4005-98bc-6a3396064ca6",
   "metadata": {},
   "outputs": [
    {
     "data": {
      "text/plain": [
       "Timestamp('2020-01-03 00:00:00', freq='D')"
      ]
     },
     "execution_count": 34,
     "metadata": {},
     "output_type": "execute_result"
    }
   ],
   "source": [
    "df.index.min()"
   ]
  },
  {
   "cell_type": "code",
   "execution_count": 35,
   "id": "bd11718e-95c0-46cb-ab20-bd5759a25430",
   "metadata": {},
   "outputs": [
    {
     "data": {
      "text/plain": [
       "0"
      ]
     },
     "execution_count": 35,
     "metadata": {},
     "output_type": "execute_result"
    }
   ],
   "source": [
    "df.index.argmin()"
   ]
  },
  {
   "cell_type": "code",
   "execution_count": null,
   "id": "4619f17e-6f1e-4d49-809b-af11f9619df9",
   "metadata": {},
   "outputs": [],
   "source": []
  }
 ],
 "metadata": {
  "kernelspec": {
   "display_name": "Python 3 (ipykernel)",
   "language": "python",
   "name": "python3"
  },
  "language_info": {
   "codemirror_mode": {
    "name": "ipython",
    "version": 3
   },
   "file_extension": ".py",
   "mimetype": "text/x-python",
   "name": "python",
   "nbconvert_exporter": "python",
   "pygments_lexer": "ipython3",
   "version": "3.7.12"
  }
 },
 "nbformat": 4,
 "nbformat_minor": 5
}
