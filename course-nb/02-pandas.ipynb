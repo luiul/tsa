{
 "cells": [
  {
   "cell_type": "markdown",
   "id": "bf1c13ba-e9c9-497d-a403-5002cd3eee8c",
   "metadata": {},
   "source": [
    "# Pandas"
   ]
  },
  {
   "cell_type": "markdown",
   "id": "1349354b-bbc8-4432-8f15-a8f9dc9266cc",
   "metadata": {},
   "source": [
    "## Series"
   ]
  },
  {
   "cell_type": "code",
   "execution_count": 1,
   "id": "d885c49b-05c8-403a-b7d6-75e3c2af0528",
   "metadata": {},
   "outputs": [],
   "source": [
    "import numpy as np\n",
    "import pandas as pd"
   ]
  },
  {
   "cell_type": "code",
   "execution_count": 9,
   "id": "8f3072c1-d324-47d4-8f9e-27e7d057a094",
   "metadata": {},
   "outputs": [],
   "source": [
    "labels = ['A', 'B', 'C']\n",
    "l = [10, 20, 30]\n",
    "arr = np.array(l)\n",
    "d = {'a': 10, 'b': 20, 'c': 30}"
   ]
  },
  {
   "cell_type": "code",
   "execution_count": 6,
   "id": "9a6d41b7-1768-470d-9dbf-6c6330adf081",
   "metadata": {},
   "outputs": [
    {
     "data": {
      "text/plain": [
       "0    10\n",
       "1    20\n",
       "2    30\n",
       "dtype: int64"
      ]
     },
     "execution_count": 6,
     "metadata": {},
     "output_type": "execute_result"
    }
   ],
   "source": [
    "pd.Series(l)"
   ]
  },
  {
   "cell_type": "code",
   "execution_count": 7,
   "id": "10214344-4a5b-4198-b435-9fcebf63297c",
   "metadata": {},
   "outputs": [
    {
     "data": {
      "text/plain": [
       "0    10\n",
       "1    20\n",
       "2    30\n",
       "dtype: int64"
      ]
     },
     "execution_count": 7,
     "metadata": {},
     "output_type": "execute_result"
    }
   ],
   "source": [
    "pd.Series(arr)"
   ]
  },
  {
   "cell_type": "code",
   "execution_count": 111,
   "id": "fd0bc024-82c0-44ce-823f-9db9135121e8",
   "metadata": {},
   "outputs": [],
   "source": [
    "my_series = pd.Series(data=[1, 2, 3, 4], index='A B C D'.split())"
   ]
  },
  {
   "cell_type": "code",
   "execution_count": 114,
   "id": "18cb17be-8bbc-4ede-a7b7-60595abdf6cb",
   "metadata": {},
   "outputs": [
    {
     "data": {
      "text/plain": [
       "A    1\n",
       "B    2\n",
       "C    3\n",
       "D    4\n",
       "dtype: int64"
      ]
     },
     "execution_count": 114,
     "metadata": {},
     "output_type": "execute_result"
    }
   ],
   "source": [
    "my_series[::]"
   ]
  },
  {
   "cell_type": "code",
   "execution_count": null,
   "id": "f59f94d8-9e6f-4da1-b1ff-71d93b99fa8b",
   "metadata": {},
   "outputs": [],
   "source": []
  },
  {
   "cell_type": "code",
   "execution_count": 11,
   "id": "ed1c391d-4ab8-40cb-8a59-79c4fe4c0b8f",
   "metadata": {},
   "outputs": [
    {
     "data": {
      "text/plain": [
       "0      1\n",
       "1      a\n",
       "2    0.5\n",
       "dtype: object"
      ]
     },
     "execution_count": 11,
     "metadata": {},
     "output_type": "execute_result"
    }
   ],
   "source": [
    "pd.Series(data=[1, 'a', 0.5])"
   ]
  },
  {
   "cell_type": "code",
   "execution_count": 130,
   "id": "bcac0017-2f00-433e-92b7-797a233c7ff4",
   "metadata": {},
   "outputs": [
    {
     "name": "stdout",
     "output_type": "stream",
     "text": [
      "A    1\n",
      "B    2\n",
      "C    3\n",
      "dtype: int64 \n",
      "\n",
      "A    4\n",
      "B    5\n",
      "D    6\n",
      "E    7\n",
      "dtype: int64\n"
     ]
    }
   ],
   "source": [
    "s1 = pd.Series(data=[1, 2, 3], index=['A', 'B', 'C'])\n",
    "s2 = pd.Series(data=[4, 5, 6, 7], index=['A', 'B', 'D', 'E'])\n",
    "print(s1, '\\n')\n",
    "print(s2)"
   ]
  },
  {
   "cell_type": "code",
   "execution_count": 131,
   "id": "3201822f-345b-4a41-8a00-f68506fe8e96",
   "metadata": {},
   "outputs": [
    {
     "data": {
      "text/plain": [
       "A    5.0\n",
       "B    7.0\n",
       "C    NaN\n",
       "D    NaN\n",
       "E    NaN\n",
       "dtype: float64"
      ]
     },
     "execution_count": 131,
     "metadata": {},
     "output_type": "execute_result"
    }
   ],
   "source": [
    "(s1 + s2)"
   ]
  },
  {
   "cell_type": "markdown",
   "id": "6a03e901-e9c1-4e14-8591-29c0881ca618",
   "metadata": {},
   "source": [
    "## DataFrame"
   ]
  },
  {
   "cell_type": "code",
   "execution_count": 151,
   "id": "3bfd5366-7394-48f2-b885-c1a4b0f7a1d0",
   "metadata": {},
   "outputs": [
    {
     "data": {
      "text/html": [
       "<div>\n",
       "<style scoped>\n",
       "    .dataframe tbody tr th:only-of-type {\n",
       "        vertical-align: middle;\n",
       "    }\n",
       "\n",
       "    .dataframe tbody tr th {\n",
       "        vertical-align: top;\n",
       "    }\n",
       "\n",
       "    .dataframe thead th {\n",
       "        text-align: right;\n",
       "    }\n",
       "</style>\n",
       "<table border=\"1\" class=\"dataframe\">\n",
       "  <thead>\n",
       "    <tr style=\"text-align: right;\">\n",
       "      <th></th>\n",
       "      <th>A</th>\n",
       "      <th>B</th>\n",
       "      <th>C</th>\n",
       "    </tr>\n",
       "  </thead>\n",
       "  <tbody>\n",
       "    <tr>\n",
       "      <th>X</th>\n",
       "      <td>1</td>\n",
       "      <td>2</td>\n",
       "      <td>3</td>\n",
       "    </tr>\n",
       "    <tr>\n",
       "      <th>Y</th>\n",
       "      <td>4</td>\n",
       "      <td>5</td>\n",
       "      <td>6</td>\n",
       "    </tr>\n",
       "    <tr>\n",
       "      <th>Z</th>\n",
       "      <td>7</td>\n",
       "      <td>8</td>\n",
       "      <td>9</td>\n",
       "    </tr>\n",
       "  </tbody>\n",
       "</table>\n",
       "</div>"
      ],
      "text/plain": [
       "   A  B  C\n",
       "X  1  2  3\n",
       "Y  4  5  6\n",
       "Z  7  8  9"
      ]
     },
     "execution_count": 151,
     "metadata": {},
     "output_type": "execute_result"
    }
   ],
   "source": [
    "pd.DataFrame(data=np.arange(1, 10).reshape(3, 3),\n",
    "             columns=list('ABC'),\n",
    "             index=list('XYZ'))"
   ]
  },
  {
   "cell_type": "code",
   "execution_count": 152,
   "id": "c267fc6a-2689-40cb-bed7-794ea311105b",
   "metadata": {},
   "outputs": [
    {
     "data": {
      "text/plain": [
       "array([[ 0.30471708, -1.03998411,  0.7504512 ,  0.94056472],\n",
       "       [-1.95103519, -1.30217951,  0.1278404 , -0.31624259],\n",
       "       [-0.01680116, -0.85304393,  0.87939797,  0.77779194],\n",
       "       [ 0.0660307 ,  1.12724121,  0.46750934, -0.85929246],\n",
       "       [ 0.36875078, -0.9588826 ,  0.8784503 , -0.04992591]])"
      ]
     },
     "execution_count": 152,
     "metadata": {},
     "output_type": "execute_result"
    }
   ],
   "source": [
    "rng = np.random.default_rng(42)\n",
    "m = rng.standard_normal((5, 4))\n",
    "m"
   ]
  },
  {
   "cell_type": "code",
   "execution_count": 153,
   "id": "4f70877f-43f8-4322-93c4-38f8d8e29161",
   "metadata": {},
   "outputs": [
    {
     "data": {
      "text/html": [
       "<div>\n",
       "<style scoped>\n",
       "    .dataframe tbody tr th:only-of-type {\n",
       "        vertical-align: middle;\n",
       "    }\n",
       "\n",
       "    .dataframe tbody tr th {\n",
       "        vertical-align: top;\n",
       "    }\n",
       "\n",
       "    .dataframe thead th {\n",
       "        text-align: right;\n",
       "    }\n",
       "</style>\n",
       "<table border=\"1\" class=\"dataframe\">\n",
       "  <thead>\n",
       "    <tr style=\"text-align: right;\">\n",
       "      <th></th>\n",
       "      <th>W</th>\n",
       "      <th>X</th>\n",
       "      <th>Y</th>\n",
       "      <th>Z</th>\n",
       "    </tr>\n",
       "  </thead>\n",
       "  <tbody>\n",
       "    <tr>\n",
       "      <th>A</th>\n",
       "      <td>0.304717</td>\n",
       "      <td>-1.039984</td>\n",
       "      <td>0.750451</td>\n",
       "      <td>0.940565</td>\n",
       "    </tr>\n",
       "    <tr>\n",
       "      <th>B</th>\n",
       "      <td>-1.951035</td>\n",
       "      <td>-1.302180</td>\n",
       "      <td>0.127840</td>\n",
       "      <td>-0.316243</td>\n",
       "    </tr>\n",
       "    <tr>\n",
       "      <th>C</th>\n",
       "      <td>-0.016801</td>\n",
       "      <td>-0.853044</td>\n",
       "      <td>0.879398</td>\n",
       "      <td>0.777792</td>\n",
       "    </tr>\n",
       "    <tr>\n",
       "      <th>D</th>\n",
       "      <td>0.066031</td>\n",
       "      <td>1.127241</td>\n",
       "      <td>0.467509</td>\n",
       "      <td>-0.859292</td>\n",
       "    </tr>\n",
       "    <tr>\n",
       "      <th>E</th>\n",
       "      <td>0.368751</td>\n",
       "      <td>-0.958883</td>\n",
       "      <td>0.878450</td>\n",
       "      <td>-0.049926</td>\n",
       "    </tr>\n",
       "  </tbody>\n",
       "</table>\n",
       "</div>"
      ],
      "text/plain": [
       "          W         X         Y         Z\n",
       "A  0.304717 -1.039984  0.750451  0.940565\n",
       "B -1.951035 -1.302180  0.127840 -0.316243\n",
       "C -0.016801 -0.853044  0.879398  0.777792\n",
       "D  0.066031  1.127241  0.467509 -0.859292\n",
       "E  0.368751 -0.958883  0.878450 -0.049926"
      ]
     },
     "execution_count": 153,
     "metadata": {},
     "output_type": "execute_result"
    }
   ],
   "source": [
    "df = pd.DataFrame(data=m, index='A B C D E'.split(), columns='W X Y Z'.split())\n",
    "df"
   ]
  },
  {
   "cell_type": "code",
   "execution_count": 188,
   "id": "03c078c4-f9bc-4b4e-ab73-4e365f495585",
   "metadata": {},
   "outputs": [],
   "source": [
    "df.loc[::, 'new_new_col'] = df.loc[::, 'X'] + df.loc[::, 'Y']"
   ]
  },
  {
   "cell_type": "code",
   "execution_count": 200,
   "id": "d27b37a2-5ab0-4315-9675-3d1b1ae3374a",
   "metadata": {},
   "outputs": [],
   "source": [
    "df.drop(labels='new_col new_new_col'.split(), axis=1, inplace=True)"
   ]
  },
  {
   "cell_type": "code",
   "execution_count": 209,
   "id": "20633d0f-77f0-4ead-a43e-a5422b27cc09",
   "metadata": {},
   "outputs": [
    {
     "data": {
      "text/html": [
       "<div>\n",
       "<style scoped>\n",
       "    .dataframe tbody tr th:only-of-type {\n",
       "        vertical-align: middle;\n",
       "    }\n",
       "\n",
       "    .dataframe tbody tr th {\n",
       "        vertical-align: top;\n",
       "    }\n",
       "\n",
       "    .dataframe thead th {\n",
       "        text-align: right;\n",
       "    }\n",
       "</style>\n",
       "<table border=\"1\" class=\"dataframe\">\n",
       "  <thead>\n",
       "    <tr style=\"text-align: right;\">\n",
       "      <th></th>\n",
       "      <th>W</th>\n",
       "      <th>X</th>\n",
       "      <th>Y</th>\n",
       "      <th>Z</th>\n",
       "    </tr>\n",
       "  </thead>\n",
       "  <tbody>\n",
       "    <tr>\n",
       "      <th>A</th>\n",
       "      <td>0.304717</td>\n",
       "      <td>NaN</td>\n",
       "      <td>0.750451</td>\n",
       "      <td>0.940565</td>\n",
       "    </tr>\n",
       "    <tr>\n",
       "      <th>B</th>\n",
       "      <td>NaN</td>\n",
       "      <td>NaN</td>\n",
       "      <td>0.127840</td>\n",
       "      <td>NaN</td>\n",
       "    </tr>\n",
       "    <tr>\n",
       "      <th>C</th>\n",
       "      <td>NaN</td>\n",
       "      <td>NaN</td>\n",
       "      <td>0.879398</td>\n",
       "      <td>0.777792</td>\n",
       "    </tr>\n",
       "    <tr>\n",
       "      <th>D</th>\n",
       "      <td>0.066031</td>\n",
       "      <td>1.127241</td>\n",
       "      <td>0.467509</td>\n",
       "      <td>NaN</td>\n",
       "    </tr>\n",
       "    <tr>\n",
       "      <th>E</th>\n",
       "      <td>0.368751</td>\n",
       "      <td>NaN</td>\n",
       "      <td>0.878450</td>\n",
       "      <td>NaN</td>\n",
       "    </tr>\n",
       "  </tbody>\n",
       "</table>\n",
       "</div>"
      ],
      "text/plain": [
       "          W         X         Y         Z\n",
       "A  0.304717       NaN  0.750451  0.940565\n",
       "B       NaN       NaN  0.127840       NaN\n",
       "C       NaN       NaN  0.879398  0.777792\n",
       "D  0.066031  1.127241  0.467509       NaN\n",
       "E  0.368751       NaN  0.878450       NaN"
      ]
     },
     "execution_count": 209,
     "metadata": {},
     "output_type": "execute_result"
    }
   ],
   "source": [
    "df[df > 0]"
   ]
  },
  {
   "cell_type": "code",
   "execution_count": 219,
   "id": "5ba4bb68-65ec-4cf8-968d-80c0488ab720",
   "metadata": {},
   "outputs": [],
   "source": [
    "df.loc['A', 'X'] = 1"
   ]
  },
  {
   "cell_type": "code",
   "execution_count": 237,
   "id": "c1d46d4a-5d22-42ab-bb30-f2d8df11bd95",
   "metadata": {},
   "outputs": [
    {
     "data": {
      "text/html": [
       "<div>\n",
       "<style scoped>\n",
       "    .dataframe tbody tr th:only-of-type {\n",
       "        vertical-align: middle;\n",
       "    }\n",
       "\n",
       "    .dataframe tbody tr th {\n",
       "        vertical-align: top;\n",
       "    }\n",
       "\n",
       "    .dataframe thead th {\n",
       "        text-align: right;\n",
       "    }\n",
       "</style>\n",
       "<table border=\"1\" class=\"dataframe\">\n",
       "  <thead>\n",
       "    <tr style=\"text-align: right;\">\n",
       "      <th></th>\n",
       "      <th>W</th>\n",
       "      <th>X</th>\n",
       "      <th>Y</th>\n",
       "      <th>Z</th>\n",
       "    </tr>\n",
       "  </thead>\n",
       "  <tbody>\n",
       "    <tr>\n",
       "      <th>A</th>\n",
       "      <td>0.304717</td>\n",
       "      <td>1.0</td>\n",
       "      <td>0.750451</td>\n",
       "      <td>0.940565</td>\n",
       "    </tr>\n",
       "  </tbody>\n",
       "</table>\n",
       "</div>"
      ],
      "text/plain": [
       "          W    X         Y         Z\n",
       "A  0.304717  1.0  0.750451  0.940565"
      ]
     },
     "execution_count": 237,
     "metadata": {},
     "output_type": "execute_result"
    }
   ],
   "source": [
    "crit = df > 0\n",
    "df[crit].dropna(axis='index')"
   ]
  },
  {
   "cell_type": "code",
   "execution_count": 243,
   "id": "b35c487a-6ae9-4b11-a2fe-da96e7e81df1",
   "metadata": {},
   "outputs": [],
   "source": [
    "df.reset_index(inplace=True)"
   ]
  },
  {
   "cell_type": "code",
   "execution_count": 244,
   "id": "36208116-2375-4bf7-8036-61843e640331",
   "metadata": {},
   "outputs": [],
   "source": [
    "new_index = 'AA BB CC DD EE'.split()"
   ]
  },
  {
   "cell_type": "code",
   "execution_count": 245,
   "id": "1dd5f9f3-e5b4-4bd5-81e8-5dae104182c8",
   "metadata": {},
   "outputs": [],
   "source": [
    "df['new_index'] = new_index"
   ]
  },
  {
   "cell_type": "code",
   "execution_count": 246,
   "id": "402a38ae-3c09-41a8-864d-de213ca72ec1",
   "metadata": {},
   "outputs": [
    {
     "data": {
      "text/html": [
       "<div>\n",
       "<style scoped>\n",
       "    .dataframe tbody tr th:only-of-type {\n",
       "        vertical-align: middle;\n",
       "    }\n",
       "\n",
       "    .dataframe tbody tr th {\n",
       "        vertical-align: top;\n",
       "    }\n",
       "\n",
       "    .dataframe thead th {\n",
       "        text-align: right;\n",
       "    }\n",
       "</style>\n",
       "<table border=\"1\" class=\"dataframe\">\n",
       "  <thead>\n",
       "    <tr style=\"text-align: right;\">\n",
       "      <th></th>\n",
       "      <th>index</th>\n",
       "      <th>W</th>\n",
       "      <th>X</th>\n",
       "      <th>Y</th>\n",
       "      <th>Z</th>\n",
       "      <th>new_index</th>\n",
       "    </tr>\n",
       "  </thead>\n",
       "  <tbody>\n",
       "    <tr>\n",
       "      <th>0</th>\n",
       "      <td>A</td>\n",
       "      <td>0.304717</td>\n",
       "      <td>1.000000</td>\n",
       "      <td>0.750451</td>\n",
       "      <td>0.940565</td>\n",
       "      <td>AA</td>\n",
       "    </tr>\n",
       "    <tr>\n",
       "      <th>1</th>\n",
       "      <td>B</td>\n",
       "      <td>-1.951035</td>\n",
       "      <td>-1.302180</td>\n",
       "      <td>0.127840</td>\n",
       "      <td>-0.316243</td>\n",
       "      <td>BB</td>\n",
       "    </tr>\n",
       "    <tr>\n",
       "      <th>2</th>\n",
       "      <td>C</td>\n",
       "      <td>-0.016801</td>\n",
       "      <td>-0.853044</td>\n",
       "      <td>0.879398</td>\n",
       "      <td>0.777792</td>\n",
       "      <td>CC</td>\n",
       "    </tr>\n",
       "    <tr>\n",
       "      <th>3</th>\n",
       "      <td>D</td>\n",
       "      <td>0.066031</td>\n",
       "      <td>1.127241</td>\n",
       "      <td>0.467509</td>\n",
       "      <td>-0.859292</td>\n",
       "      <td>DD</td>\n",
       "    </tr>\n",
       "    <tr>\n",
       "      <th>4</th>\n",
       "      <td>E</td>\n",
       "      <td>0.368751</td>\n",
       "      <td>-0.958883</td>\n",
       "      <td>0.878450</td>\n",
       "      <td>-0.049926</td>\n",
       "      <td>EE</td>\n",
       "    </tr>\n",
       "  </tbody>\n",
       "</table>\n",
       "</div>"
      ],
      "text/plain": [
       "  index         W         X         Y         Z new_index\n",
       "0     A  0.304717  1.000000  0.750451  0.940565        AA\n",
       "1     B -1.951035 -1.302180  0.127840 -0.316243        BB\n",
       "2     C -0.016801 -0.853044  0.879398  0.777792        CC\n",
       "3     D  0.066031  1.127241  0.467509 -0.859292        DD\n",
       "4     E  0.368751 -0.958883  0.878450 -0.049926        EE"
      ]
     },
     "execution_count": 246,
     "metadata": {},
     "output_type": "execute_result"
    }
   ],
   "source": [
    "df"
   ]
  },
  {
   "cell_type": "code",
   "execution_count": 247,
   "id": "eada695d-f8ff-46a5-b1e5-33ecc77766af",
   "metadata": {},
   "outputs": [],
   "source": [
    "df.set_index('new_index', inplace=True)"
   ]
  },
  {
   "cell_type": "code",
   "execution_count": 250,
   "id": "30eeddd6-6539-4d83-85c9-fe9516f0c583",
   "metadata": {},
   "outputs": [],
   "source": [
    "df.rename({'index': 'old_index'}, axis=1, inplace=True)"
   ]
  },
  {
   "cell_type": "code",
   "execution_count": 251,
   "id": "cd0f762e-617d-426b-b74f-52cef20f0796",
   "metadata": {},
   "outputs": [
    {
     "data": {
      "text/html": [
       "<div>\n",
       "<style scoped>\n",
       "    .dataframe tbody tr th:only-of-type {\n",
       "        vertical-align: middle;\n",
       "    }\n",
       "\n",
       "    .dataframe tbody tr th {\n",
       "        vertical-align: top;\n",
       "    }\n",
       "\n",
       "    .dataframe thead th {\n",
       "        text-align: right;\n",
       "    }\n",
       "</style>\n",
       "<table border=\"1\" class=\"dataframe\">\n",
       "  <thead>\n",
       "    <tr style=\"text-align: right;\">\n",
       "      <th></th>\n",
       "      <th>old_index</th>\n",
       "      <th>W</th>\n",
       "      <th>X</th>\n",
       "      <th>Y</th>\n",
       "      <th>Z</th>\n",
       "    </tr>\n",
       "    <tr>\n",
       "      <th>new_index</th>\n",
       "      <th></th>\n",
       "      <th></th>\n",
       "      <th></th>\n",
       "      <th></th>\n",
       "      <th></th>\n",
       "    </tr>\n",
       "  </thead>\n",
       "  <tbody>\n",
       "    <tr>\n",
       "      <th>AA</th>\n",
       "      <td>A</td>\n",
       "      <td>0.304717</td>\n",
       "      <td>1.000000</td>\n",
       "      <td>0.750451</td>\n",
       "      <td>0.940565</td>\n",
       "    </tr>\n",
       "    <tr>\n",
       "      <th>BB</th>\n",
       "      <td>B</td>\n",
       "      <td>-1.951035</td>\n",
       "      <td>-1.302180</td>\n",
       "      <td>0.127840</td>\n",
       "      <td>-0.316243</td>\n",
       "    </tr>\n",
       "    <tr>\n",
       "      <th>CC</th>\n",
       "      <td>C</td>\n",
       "      <td>-0.016801</td>\n",
       "      <td>-0.853044</td>\n",
       "      <td>0.879398</td>\n",
       "      <td>0.777792</td>\n",
       "    </tr>\n",
       "    <tr>\n",
       "      <th>DD</th>\n",
       "      <td>D</td>\n",
       "      <td>0.066031</td>\n",
       "      <td>1.127241</td>\n",
       "      <td>0.467509</td>\n",
       "      <td>-0.859292</td>\n",
       "    </tr>\n",
       "    <tr>\n",
       "      <th>EE</th>\n",
       "      <td>E</td>\n",
       "      <td>0.368751</td>\n",
       "      <td>-0.958883</td>\n",
       "      <td>0.878450</td>\n",
       "      <td>-0.049926</td>\n",
       "    </tr>\n",
       "  </tbody>\n",
       "</table>\n",
       "</div>"
      ],
      "text/plain": [
       "          old_index         W         X         Y         Z\n",
       "new_index                                                  \n",
       "AA                A  0.304717  1.000000  0.750451  0.940565\n",
       "BB                B -1.951035 -1.302180  0.127840 -0.316243\n",
       "CC                C -0.016801 -0.853044  0.879398  0.777792\n",
       "DD                D  0.066031  1.127241  0.467509 -0.859292\n",
       "EE                E  0.368751 -0.958883  0.878450 -0.049926"
      ]
     },
     "execution_count": 251,
     "metadata": {},
     "output_type": "execute_result"
    }
   ],
   "source": [
    "df"
   ]
  },
  {
   "cell_type": "code",
   "execution_count": 255,
   "id": "fae69bd8-949c-4dfe-86ba-d7d8350c2319",
   "metadata": {},
   "outputs": [
    {
     "data": {
      "text/plain": [
       "array([[ 0.30471708, -1.03998411,  0.7504512 ,  0.94056472],\n",
       "       [-1.95103519, -1.30217951,  0.1278404 , -0.31624259],\n",
       "       [-0.01680116, -0.85304393,  0.87939797,  0.77779194],\n",
       "       [ 0.0660307 ,  1.12724121,  0.46750934, -0.85929246],\n",
       "       [ 0.36875078, -0.9588826 ,  0.8784503 , -0.04992591]])"
      ]
     },
     "execution_count": 255,
     "metadata": {},
     "output_type": "execute_result"
    }
   ],
   "source": [
    "rng = np.random.default_rng(42)\n",
    "data = rng.standard_normal((5, 4))\n",
    "data"
   ]
  },
  {
   "cell_type": "code",
   "execution_count": 257,
   "id": "e8bcfe38-4a9a-4a93-bc16-7b37f4449847",
   "metadata": {},
   "outputs": [
    {
     "data": {
      "text/html": [
       "<div>\n",
       "<style scoped>\n",
       "    .dataframe tbody tr th:only-of-type {\n",
       "        vertical-align: middle;\n",
       "    }\n",
       "\n",
       "    .dataframe tbody tr th {\n",
       "        vertical-align: top;\n",
       "    }\n",
       "\n",
       "    .dataframe thead th {\n",
       "        text-align: right;\n",
       "    }\n",
       "</style>\n",
       "<table border=\"1\" class=\"dataframe\">\n",
       "  <thead>\n",
       "    <tr style=\"text-align: right;\">\n",
       "      <th></th>\n",
       "      <th>W</th>\n",
       "      <th>X</th>\n",
       "      <th>Y</th>\n",
       "      <th>Z</th>\n",
       "    </tr>\n",
       "  </thead>\n",
       "  <tbody>\n",
       "    <tr>\n",
       "      <th>A</th>\n",
       "      <td>0.304717</td>\n",
       "      <td>-1.039984</td>\n",
       "      <td>0.750451</td>\n",
       "      <td>0.940565</td>\n",
       "    </tr>\n",
       "    <tr>\n",
       "      <th>B</th>\n",
       "      <td>-1.951035</td>\n",
       "      <td>-1.302180</td>\n",
       "      <td>0.127840</td>\n",
       "      <td>-0.316243</td>\n",
       "    </tr>\n",
       "    <tr>\n",
       "      <th>C</th>\n",
       "      <td>-0.016801</td>\n",
       "      <td>-0.853044</td>\n",
       "      <td>0.879398</td>\n",
       "      <td>0.777792</td>\n",
       "    </tr>\n",
       "    <tr>\n",
       "      <th>D</th>\n",
       "      <td>0.066031</td>\n",
       "      <td>1.127241</td>\n",
       "      <td>0.467509</td>\n",
       "      <td>-0.859292</td>\n",
       "    </tr>\n",
       "    <tr>\n",
       "      <th>E</th>\n",
       "      <td>0.368751</td>\n",
       "      <td>-0.958883</td>\n",
       "      <td>0.878450</td>\n",
       "      <td>-0.049926</td>\n",
       "    </tr>\n",
       "  </tbody>\n",
       "</table>\n",
       "</div>"
      ],
      "text/plain": [
       "          W         X         Y         Z\n",
       "A  0.304717 -1.039984  0.750451  0.940565\n",
       "B -1.951035 -1.302180  0.127840 -0.316243\n",
       "C -0.016801 -0.853044  0.879398  0.777792\n",
       "D  0.066031  1.127241  0.467509 -0.859292\n",
       "E  0.368751 -0.958883  0.878450 -0.049926"
      ]
     },
     "execution_count": 257,
     "metadata": {},
     "output_type": "execute_result"
    }
   ],
   "source": [
    "idx = list('ABCDE')\n",
    "cols = list('WXYZ')\n",
    "df = pd.DataFrame(data=data, index=idx, columns=cols)\n",
    "df"
   ]
  },
  {
   "cell_type": "code",
   "execution_count": 258,
   "id": "74ad9711-972a-4f60-b66d-2d678f37644a",
   "metadata": {},
   "outputs": [
    {
     "data": {
      "text/html": [
       "<div>\n",
       "<style scoped>\n",
       "    .dataframe tbody tr th:only-of-type {\n",
       "        vertical-align: middle;\n",
       "    }\n",
       "\n",
       "    .dataframe tbody tr th {\n",
       "        vertical-align: top;\n",
       "    }\n",
       "\n",
       "    .dataframe thead th {\n",
       "        text-align: right;\n",
       "    }\n",
       "</style>\n",
       "<table border=\"1\" class=\"dataframe\">\n",
       "  <thead>\n",
       "    <tr style=\"text-align: right;\">\n",
       "      <th></th>\n",
       "      <th>old_index</th>\n",
       "      <th>W</th>\n",
       "      <th>X</th>\n",
       "      <th>Y</th>\n",
       "      <th>Z</th>\n",
       "    </tr>\n",
       "    <tr>\n",
       "      <th>new_index</th>\n",
       "      <th></th>\n",
       "      <th></th>\n",
       "      <th></th>\n",
       "      <th></th>\n",
       "      <th></th>\n",
       "    </tr>\n",
       "  </thead>\n",
       "  <tbody>\n",
       "    <tr>\n",
       "      <th>AA</th>\n",
       "      <td>A</td>\n",
       "      <td>0.304717</td>\n",
       "      <td>-1.039984</td>\n",
       "      <td>0.750451</td>\n",
       "      <td>0.940565</td>\n",
       "    </tr>\n",
       "    <tr>\n",
       "      <th>BB</th>\n",
       "      <td>B</td>\n",
       "      <td>-1.951035</td>\n",
       "      <td>-1.302180</td>\n",
       "      <td>0.127840</td>\n",
       "      <td>-0.316243</td>\n",
       "    </tr>\n",
       "    <tr>\n",
       "      <th>CC</th>\n",
       "      <td>C</td>\n",
       "      <td>-0.016801</td>\n",
       "      <td>-0.853044</td>\n",
       "      <td>0.879398</td>\n",
       "      <td>0.777792</td>\n",
       "    </tr>\n",
       "    <tr>\n",
       "      <th>DD</th>\n",
       "      <td>D</td>\n",
       "      <td>0.066031</td>\n",
       "      <td>1.127241</td>\n",
       "      <td>0.467509</td>\n",
       "      <td>-0.859292</td>\n",
       "    </tr>\n",
       "    <tr>\n",
       "      <th>EE</th>\n",
       "      <td>E</td>\n",
       "      <td>0.368751</td>\n",
       "      <td>-0.958883</td>\n",
       "      <td>0.878450</td>\n",
       "      <td>-0.049926</td>\n",
       "    </tr>\n",
       "  </tbody>\n",
       "</table>\n",
       "</div>"
      ],
      "text/plain": [
       "          old_index         W         X         Y         Z\n",
       "new_index                                                  \n",
       "AA                A  0.304717 -1.039984  0.750451  0.940565\n",
       "BB                B -1.951035 -1.302180  0.127840 -0.316243\n",
       "CC                C -0.016801 -0.853044  0.879398  0.777792\n",
       "DD                D  0.066031  1.127241  0.467509 -0.859292\n",
       "EE                E  0.368751 -0.958883  0.878450 -0.049926"
      ]
     },
     "execution_count": 258,
     "metadata": {},
     "output_type": "execute_result"
    }
   ],
   "source": [
    "# Reset index to default integer position based index\n",
    "df.reset_index(inplace=True)\n",
    "# Rename old index\n",
    "df.rename({'index': 'old_index'}, axis=1, inplace=True)\n",
    "# Create data for the new index\n",
    "new_index = 'AA BB CC DD EE'.split()\n",
    "# Assign data to new column\n",
    "df['new_index'] = new_index\n",
    "# Set new index\n",
    "df.set_index('new_index', inplace=True)\n",
    "df"
   ]
  },
  {
   "cell_type": "code",
   "execution_count": 259,
   "id": "0af36d6c-ecb7-4693-a6f8-3446a14ee504",
   "metadata": {},
   "outputs": [
    {
     "name": "stdout",
     "output_type": "stream",
     "text": [
      "          old_index         W         X         Y         Z\n",
      "new_index                                                  \n",
      "AA                A  0.304717 -1.039984  0.750451  0.940565\n",
      "BB                B -1.951035 -1.302180  0.127840 -0.316243\n",
      "CC                C -0.016801 -0.853044  0.879398  0.777792\n",
      "DD                D  0.066031  1.127241  0.467509 -0.859292\n",
      "EE                E  0.368751 -0.958883  0.878450 -0.049926\n"
     ]
    }
   ],
   "source": [
    "print(df)"
   ]
  },
  {
   "cell_type": "code",
   "execution_count": 260,
   "id": "7fd08403-3776-4b52-8c74-9a437c2059d1",
   "metadata": {},
   "outputs": [
    {
     "name": "stdout",
     "output_type": "stream",
     "text": [
      "<class 'pandas.core.frame.DataFrame'>\n",
      "Index: 5 entries, AA to EE\n",
      "Data columns (total 5 columns):\n",
      " #   Column     Non-Null Count  Dtype  \n",
      "---  ------     --------------  -----  \n",
      " 0   old_index  5 non-null      object \n",
      " 1   W          5 non-null      float64\n",
      " 2   X          5 non-null      float64\n",
      " 3   Y          5 non-null      float64\n",
      " 4   Z          5 non-null      float64\n",
      "dtypes: float64(4), object(1)\n",
      "memory usage: 240.0+ bytes\n"
     ]
    }
   ],
   "source": [
    "df.info()"
   ]
  },
  {
   "cell_type": "code",
   "execution_count": 261,
   "id": "7dc86640-be6d-426a-9705-fc71fc815447",
   "metadata": {},
   "outputs": [
    {
     "data": {
      "text/html": [
       "<div>\n",
       "<style scoped>\n",
       "    .dataframe tbody tr th:only-of-type {\n",
       "        vertical-align: middle;\n",
       "    }\n",
       "\n",
       "    .dataframe tbody tr th {\n",
       "        vertical-align: top;\n",
       "    }\n",
       "\n",
       "    .dataframe thead th {\n",
       "        text-align: right;\n",
       "    }\n",
       "</style>\n",
       "<table border=\"1\" class=\"dataframe\">\n",
       "  <thead>\n",
       "    <tr style=\"text-align: right;\">\n",
       "      <th></th>\n",
       "      <th>count</th>\n",
       "      <th>mean</th>\n",
       "      <th>std</th>\n",
       "      <th>min</th>\n",
       "      <th>25%</th>\n",
       "      <th>50%</th>\n",
       "      <th>75%</th>\n",
       "      <th>max</th>\n",
       "    </tr>\n",
       "  </thead>\n",
       "  <tbody>\n",
       "    <tr>\n",
       "      <th>W</th>\n",
       "      <td>5.0</td>\n",
       "      <td>-0.245668</td>\n",
       "      <td>0.966727</td>\n",
       "      <td>-1.951035</td>\n",
       "      <td>-0.016801</td>\n",
       "      <td>0.066031</td>\n",
       "      <td>0.304717</td>\n",
       "      <td>0.368751</td>\n",
       "    </tr>\n",
       "    <tr>\n",
       "      <th>X</th>\n",
       "      <td>5.0</td>\n",
       "      <td>-0.605370</td>\n",
       "      <td>0.982686</td>\n",
       "      <td>-1.302180</td>\n",
       "      <td>-1.039984</td>\n",
       "      <td>-0.958883</td>\n",
       "      <td>-0.853044</td>\n",
       "      <td>1.127241</td>\n",
       "    </tr>\n",
       "    <tr>\n",
       "      <th>Y</th>\n",
       "      <td>5.0</td>\n",
       "      <td>0.620730</td>\n",
       "      <td>0.322712</td>\n",
       "      <td>0.127840</td>\n",
       "      <td>0.467509</td>\n",
       "      <td>0.750451</td>\n",
       "      <td>0.878450</td>\n",
       "      <td>0.879398</td>\n",
       "    </tr>\n",
       "    <tr>\n",
       "      <th>Z</th>\n",
       "      <td>5.0</td>\n",
       "      <td>0.098579</td>\n",
       "      <td>0.755301</td>\n",
       "      <td>-0.859292</td>\n",
       "      <td>-0.316243</td>\n",
       "      <td>-0.049926</td>\n",
       "      <td>0.777792</td>\n",
       "      <td>0.940565</td>\n",
       "    </tr>\n",
       "  </tbody>\n",
       "</table>\n",
       "</div>"
      ],
      "text/plain": [
       "   count      mean       std       min       25%       50%       75%       max\n",
       "W    5.0 -0.245668  0.966727 -1.951035 -0.016801  0.066031  0.304717  0.368751\n",
       "X    5.0 -0.605370  0.982686 -1.302180 -1.039984 -0.958883 -0.853044  1.127241\n",
       "Y    5.0  0.620730  0.322712  0.127840  0.467509  0.750451  0.878450  0.879398\n",
       "Z    5.0  0.098579  0.755301 -0.859292 -0.316243 -0.049926  0.777792  0.940565"
      ]
     },
     "execution_count": 261,
     "metadata": {},
     "output_type": "execute_result"
    }
   ],
   "source": [
    "df.describe().T"
   ]
  },
  {
   "cell_type": "markdown",
   "id": "29f9eadc-0eb9-450e-95a8-abf1e908a930",
   "metadata": {},
   "source": [
    "## Missing Data with Pandas"
   ]
  },
  {
   "cell_type": "code",
   "execution_count": 287,
   "id": "8c312130-c1a9-44ae-ba30-1a8e750834ef",
   "metadata": {},
   "outputs": [
    {
     "data": {
      "text/html": [
       "<div>\n",
       "<style scoped>\n",
       "    .dataframe tbody tr th:only-of-type {\n",
       "        vertical-align: middle;\n",
       "    }\n",
       "\n",
       "    .dataframe tbody tr th {\n",
       "        vertical-align: top;\n",
       "    }\n",
       "\n",
       "    .dataframe thead th {\n",
       "        text-align: right;\n",
       "    }\n",
       "</style>\n",
       "<table border=\"1\" class=\"dataframe\">\n",
       "  <thead>\n",
       "    <tr style=\"text-align: right;\">\n",
       "      <th></th>\n",
       "      <th>A</th>\n",
       "      <th>B</th>\n",
       "      <th>C</th>\n",
       "    </tr>\n",
       "  </thead>\n",
       "  <tbody>\n",
       "    <tr>\n",
       "      <th>0</th>\n",
       "      <td>1.0</td>\n",
       "      <td>5.0</td>\n",
       "      <td>1</td>\n",
       "    </tr>\n",
       "    <tr>\n",
       "      <th>1</th>\n",
       "      <td>2.0</td>\n",
       "      <td>NaN</td>\n",
       "      <td>2</td>\n",
       "    </tr>\n",
       "    <tr>\n",
       "      <th>2</th>\n",
       "      <td>NaN</td>\n",
       "      <td>NaN</td>\n",
       "      <td>3</td>\n",
       "    </tr>\n",
       "  </tbody>\n",
       "</table>\n",
       "</div>"
      ],
      "text/plain": [
       "     A    B  C\n",
       "0  1.0  5.0  1\n",
       "1  2.0  NaN  2\n",
       "2  NaN  NaN  3"
      ]
     },
     "execution_count": 287,
     "metadata": {},
     "output_type": "execute_result"
    }
   ],
   "source": [
    "series_dict = dict(A=[1, 2, np.nan], B=[5, np.nan, np.nan], C=[1, 2, 3])\n",
    "df = pd.DataFrame(series_dict)\n",
    "df"
   ]
  },
  {
   "cell_type": "markdown",
   "id": "a9158c36-56f6-4e0e-8823-bf8d1820b9f0",
   "metadata": {},
   "source": [
    "## Group By Operations"
   ]
  },
  {
   "cell_type": "code",
   "execution_count": 1,
   "id": "fd77f2c5-0391-4102-b07a-ec73aa114e96",
   "metadata": {},
   "outputs": [],
   "source": [
    "import pandas as pd"
   ]
  },
  {
   "cell_type": "code",
   "execution_count": 5,
   "id": "36af37d1-ec57-4259-84c8-7609a1c52405",
   "metadata": {},
   "outputs": [
    {
     "data": {
      "text/plain": [
       "{'Company': ['GOOG', 'GOOG', 'MSFT', 'MSFT', 'FB', 'FB'],\n",
       " 'Person': ['Sam', 'Charlie', 'Amy', 'Vanessa', 'Carl', 'Sarah'],\n",
       " 'Sales': [200, 120, 340, 124, 243, 350]}"
      ]
     },
     "execution_count": 5,
     "metadata": {},
     "output_type": "execute_result"
    }
   ],
   "source": [
    "data = dict(Company='GOOG GOOG MSFT MSFT FB FB'.split(),\n",
    "            Person='Sam Charlie Amy Vanessa Carl Sarah'.split(),\n",
    "            Sales=[200, 120, 340, 124, 243, 350])\n",
    "data"
   ]
  },
  {
   "cell_type": "code",
   "execution_count": 6,
   "id": "6b83202e-4e82-4947-b0ea-2df3f3ff3135",
   "metadata": {},
   "outputs": [],
   "source": [
    "df = pd.DataFrame(data)"
   ]
  },
  {
   "cell_type": "code",
   "execution_count": 18,
   "id": "1941a7fa-52d7-4bdf-bfad-38d4762b1113",
   "metadata": {},
   "outputs": [
    {
     "data": {
      "text/html": [
       "<div>\n",
       "<style scoped>\n",
       "    .dataframe tbody tr th:only-of-type {\n",
       "        vertical-align: middle;\n",
       "    }\n",
       "\n",
       "    .dataframe tbody tr th {\n",
       "        vertical-align: top;\n",
       "    }\n",
       "\n",
       "    .dataframe thead th {\n",
       "        text-align: right;\n",
       "    }\n",
       "</style>\n",
       "<table border=\"1\" class=\"dataframe\">\n",
       "  <thead>\n",
       "    <tr style=\"text-align: right;\">\n",
       "      <th></th>\n",
       "      <th>Company</th>\n",
       "      <th>Person</th>\n",
       "      <th>Sales</th>\n",
       "    </tr>\n",
       "  </thead>\n",
       "  <tbody>\n",
       "    <tr>\n",
       "      <th>1</th>\n",
       "      <td>GOOG</td>\n",
       "      <td>Charlie</td>\n",
       "      <td>120</td>\n",
       "    </tr>\n",
       "    <tr>\n",
       "      <th>3</th>\n",
       "      <td>MSFT</td>\n",
       "      <td>Vanessa</td>\n",
       "      <td>124</td>\n",
       "    </tr>\n",
       "    <tr>\n",
       "      <th>0</th>\n",
       "      <td>GOOG</td>\n",
       "      <td>Sam</td>\n",
       "      <td>200</td>\n",
       "    </tr>\n",
       "    <tr>\n",
       "      <th>4</th>\n",
       "      <td>FB</td>\n",
       "      <td>Carl</td>\n",
       "      <td>243</td>\n",
       "    </tr>\n",
       "    <tr>\n",
       "      <th>2</th>\n",
       "      <td>MSFT</td>\n",
       "      <td>Amy</td>\n",
       "      <td>340</td>\n",
       "    </tr>\n",
       "    <tr>\n",
       "      <th>5</th>\n",
       "      <td>FB</td>\n",
       "      <td>Sarah</td>\n",
       "      <td>350</td>\n",
       "    </tr>\n",
       "  </tbody>\n",
       "</table>\n",
       "</div>"
      ],
      "text/plain": [
       "  Company   Person  Sales\n",
       "1    GOOG  Charlie    120\n",
       "3    MSFT  Vanessa    124\n",
       "0    GOOG      Sam    200\n",
       "4      FB     Carl    243\n",
       "2    MSFT      Amy    340\n",
       "5      FB    Sarah    350"
      ]
     },
     "execution_count": 18,
     "metadata": {},
     "output_type": "execute_result"
    }
   ],
   "source": [
    "df.sort_values('Sales')"
   ]
  },
  {
   "cell_type": "code",
   "execution_count": 24,
   "id": "7a956c8e-1630-4092-9735-ca962dbe434e",
   "metadata": {},
   "outputs": [
    {
     "name": "stdout",
     "output_type": "stream",
     "text": [
      "Company            GOOG        MSFT          FB\n",
      "Sales count    2.000000    2.000000    2.000000\n",
      "      mean   160.000000  232.000000  296.500000\n",
      "      std     56.568542  152.735065   75.660426\n",
      "      min    120.000000  124.000000  243.000000\n",
      "      25%    140.000000  178.000000  269.750000\n",
      "      50%    160.000000  232.000000  296.500000\n",
      "      75%    180.000000  286.000000  323.250000\n",
      "      max    200.000000  340.000000  350.000000\n"
     ]
    }
   ],
   "source": [
    "print(df.groupby('Company').describe().sort_values([('Sales', 'mean')]).T)"
   ]
  },
  {
   "cell_type": "markdown",
   "id": "097fe85a-a8c3-4fde-976e-3e8fd05a6b60",
   "metadata": {},
   "source": [
    "## Common Operations"
   ]
  },
  {
   "cell_type": "code",
   "execution_count": 30,
   "id": "9327dc02-f59f-4382-ad27-de549f374d35",
   "metadata": {},
   "outputs": [],
   "source": [
    "import numpy as np"
   ]
  },
  {
   "cell_type": "code",
   "execution_count": 32,
   "id": "bc79c699-c08b-4fd8-9349-0afa4ada6c3c",
   "metadata": {},
   "outputs": [],
   "source": [
    "data = dict(c1=np.arange(1, 5),\n",
    "            c2=[444, 555, 777, 444],\n",
    "            c3='abc def ghi xyz'.split())\n",
    "\n",
    "df = pd.DataFrame(data=data)"
   ]
  },
  {
   "cell_type": "code",
   "execution_count": 33,
   "id": "9b1160fa-7bfb-49fa-95cc-f27dec939be7",
   "metadata": {},
   "outputs": [
    {
     "data": {
      "text/html": [
       "<div>\n",
       "<style scoped>\n",
       "    .dataframe tbody tr th:only-of-type {\n",
       "        vertical-align: middle;\n",
       "    }\n",
       "\n",
       "    .dataframe tbody tr th {\n",
       "        vertical-align: top;\n",
       "    }\n",
       "\n",
       "    .dataframe thead th {\n",
       "        text-align: right;\n",
       "    }\n",
       "</style>\n",
       "<table border=\"1\" class=\"dataframe\">\n",
       "  <thead>\n",
       "    <tr style=\"text-align: right;\">\n",
       "      <th></th>\n",
       "      <th>c1</th>\n",
       "      <th>c2</th>\n",
       "      <th>c3</th>\n",
       "    </tr>\n",
       "  </thead>\n",
       "  <tbody>\n",
       "    <tr>\n",
       "      <th>0</th>\n",
       "      <td>1</td>\n",
       "      <td>444</td>\n",
       "      <td>abc</td>\n",
       "    </tr>\n",
       "    <tr>\n",
       "      <th>1</th>\n",
       "      <td>2</td>\n",
       "      <td>555</td>\n",
       "      <td>def</td>\n",
       "    </tr>\n",
       "    <tr>\n",
       "      <th>2</th>\n",
       "      <td>3</td>\n",
       "      <td>777</td>\n",
       "      <td>ghi</td>\n",
       "    </tr>\n",
       "    <tr>\n",
       "      <th>3</th>\n",
       "      <td>4</td>\n",
       "      <td>444</td>\n",
       "      <td>xyz</td>\n",
       "    </tr>\n",
       "  </tbody>\n",
       "</table>\n",
       "</div>"
      ],
      "text/plain": [
       "   c1   c2   c3\n",
       "0   1  444  abc\n",
       "1   2  555  def\n",
       "2   3  777  ghi\n",
       "3   4  444  xyz"
      ]
     },
     "execution_count": 33,
     "metadata": {},
     "output_type": "execute_result"
    }
   ],
   "source": [
    "df.head()"
   ]
  },
  {
   "cell_type": "code",
   "execution_count": 43,
   "id": "4bb2be99-1aca-43b7-92fc-cd3eeb7a0997",
   "metadata": {},
   "outputs": [
    {
     "data": {
      "text/plain": [
       "array([444, 555, 777])"
      ]
     },
     "execution_count": 43,
     "metadata": {},
     "output_type": "execute_result"
    }
   ],
   "source": [
    "df['c2'].unique()"
   ]
  },
  {
   "cell_type": "code",
   "execution_count": 42,
   "id": "7543482c-82c4-4e62-96df-be7167aabe46",
   "metadata": {},
   "outputs": [
    {
     "data": {
      "text/plain": [
       "444    50.0\n",
       "555    25.0\n",
       "777    25.0\n",
       "Name: c2, dtype: float64"
      ]
     },
     "execution_count": 42,
     "metadata": {},
     "output_type": "execute_result"
    }
   ],
   "source": [
    "df['c2'].value_counts(normalize=True) * 100"
   ]
  },
  {
   "cell_type": "code",
   "execution_count": 52,
   "id": "1992a61e-604a-4a2b-9369-d1a324edd3ec",
   "metadata": {},
   "outputs": [],
   "source": [
    "def tt(n):\n",
    "    return n * 2"
   ]
  },
  {
   "cell_type": "code",
   "execution_count": 54,
   "id": "a73d75bc-4106-43bf-a66c-4f05c510a67a",
   "metadata": {},
   "outputs": [
    {
     "data": {
      "text/plain": [
       "0    2\n",
       "1    4\n",
       "2    6\n",
       "3    8\n",
       "Name: c1, dtype: int64"
      ]
     },
     "execution_count": 54,
     "metadata": {},
     "output_type": "execute_result"
    }
   ],
   "source": [
    "df.apply()"
   ]
  },
  {
   "cell_type": "markdown",
   "id": "8f8a3a2a-ce74-4cf7-8b1a-3c34accf564f",
   "metadata": {},
   "source": [
    "## Data IO\n",
    "See course material notebook"
   ]
  },
  {
   "cell_type": "markdown",
   "id": "e472777f-7242-4df0-9b27-fd46b46ae16d",
   "metadata": {},
   "source": [
    "# Data Visualization with Pandas"
   ]
  },
  {
   "cell_type": "code",
   "execution_count": 1,
   "id": "35fa65e4-70bf-419d-a7f7-23444315a2d2",
   "metadata": {},
   "outputs": [],
   "source": [
    "import numpy as np\n",
    "import pandas as pd\n",
    "# %matplotlib inline"
   ]
  },
  {
   "cell_type": "code",
   "execution_count": 2,
   "id": "42fd2bce-70ad-444e-b21a-3638ff1156f6",
   "metadata": {},
   "outputs": [],
   "source": [
    "path = '/Users/aceituno/Desktop/projects/ws2122/tsa/course-material/03-Pandas-Visualization/'"
   ]
  },
  {
   "cell_type": "code",
   "execution_count": 3,
   "id": "fcdfe480-b10d-4636-a354-86ec50fa2dd7",
   "metadata": {},
   "outputs": [],
   "source": [
    "file_name = 'df1.csv'\n",
    "file = path + file_name"
   ]
  },
  {
   "cell_type": "code",
   "execution_count": 4,
   "id": "5e3ce8f9-e36c-485f-b975-04ceb951aa7c",
   "metadata": {},
   "outputs": [],
   "source": [
    "df1 = pd.read_csv(file, index_col=0)"
   ]
  },
  {
   "cell_type": "code",
   "execution_count": 5,
   "id": "58b47006-b0dd-4951-af5e-f989fdaf4784",
   "metadata": {},
   "outputs": [
    {
     "data": {
      "text/html": [
       "<div>\n",
       "<style scoped>\n",
       "    .dataframe tbody tr th:only-of-type {\n",
       "        vertical-align: middle;\n",
       "    }\n",
       "\n",
       "    .dataframe tbody tr th {\n",
       "        vertical-align: top;\n",
       "    }\n",
       "\n",
       "    .dataframe thead th {\n",
       "        text-align: right;\n",
       "    }\n",
       "</style>\n",
       "<table border=\"1\" class=\"dataframe\">\n",
       "  <thead>\n",
       "    <tr style=\"text-align: right;\">\n",
       "      <th></th>\n",
       "      <th>A</th>\n",
       "      <th>B</th>\n",
       "      <th>C</th>\n",
       "      <th>D</th>\n",
       "    </tr>\n",
       "  </thead>\n",
       "  <tbody>\n",
       "    <tr>\n",
       "      <th>2000-01-01</th>\n",
       "      <td>1.339091</td>\n",
       "      <td>-0.163643</td>\n",
       "      <td>-0.646443</td>\n",
       "      <td>1.041233</td>\n",
       "    </tr>\n",
       "    <tr>\n",
       "      <th>2000-01-02</th>\n",
       "      <td>-0.774984</td>\n",
       "      <td>0.137034</td>\n",
       "      <td>-0.882716</td>\n",
       "      <td>-2.253382</td>\n",
       "    </tr>\n",
       "    <tr>\n",
       "      <th>2000-01-03</th>\n",
       "      <td>-0.921037</td>\n",
       "      <td>-0.482943</td>\n",
       "      <td>-0.417100</td>\n",
       "      <td>0.478638</td>\n",
       "    </tr>\n",
       "    <tr>\n",
       "      <th>2000-01-04</th>\n",
       "      <td>-1.738808</td>\n",
       "      <td>-0.072973</td>\n",
       "      <td>0.056517</td>\n",
       "      <td>0.015085</td>\n",
       "    </tr>\n",
       "    <tr>\n",
       "      <th>2000-01-05</th>\n",
       "      <td>-0.905980</td>\n",
       "      <td>1.778576</td>\n",
       "      <td>0.381918</td>\n",
       "      <td>0.291436</td>\n",
       "    </tr>\n",
       "  </tbody>\n",
       "</table>\n",
       "</div>"
      ],
      "text/plain": [
       "                   A         B         C         D\n",
       "2000-01-01  1.339091 -0.163643 -0.646443  1.041233\n",
       "2000-01-02 -0.774984  0.137034 -0.882716 -2.253382\n",
       "2000-01-03 -0.921037 -0.482943 -0.417100  0.478638\n",
       "2000-01-04 -1.738808 -0.072973  0.056517  0.015085\n",
       "2000-01-05 -0.905980  1.778576  0.381918  0.291436"
      ]
     },
     "execution_count": 5,
     "metadata": {},
     "output_type": "execute_result"
    }
   ],
   "source": [
    "df1.head()"
   ]
  },
  {
   "cell_type": "code",
   "execution_count": 6,
   "id": "81f3079e-7cc5-4957-a70a-f59cdc0469a9",
   "metadata": {},
   "outputs": [],
   "source": [
    "file_name = 'df2.csv'\n",
    "file = path + file_name"
   ]
  },
  {
   "cell_type": "code",
   "execution_count": 7,
   "id": "d0656834-c81f-48ee-ab3d-dae3b309674a",
   "metadata": {},
   "outputs": [],
   "source": [
    "df2 = pd.read_csv(file)"
   ]
  },
  {
   "cell_type": "code",
   "execution_count": 8,
   "id": "138f0f08-2f26-4ec4-ba01-1c0f7ebd4e9e",
   "metadata": {},
   "outputs": [
    {
     "data": {
      "text/html": [
       "<div>\n",
       "<style scoped>\n",
       "    .dataframe tbody tr th:only-of-type {\n",
       "        vertical-align: middle;\n",
       "    }\n",
       "\n",
       "    .dataframe tbody tr th {\n",
       "        vertical-align: top;\n",
       "    }\n",
       "\n",
       "    .dataframe thead th {\n",
       "        text-align: right;\n",
       "    }\n",
       "</style>\n",
       "<table border=\"1\" class=\"dataframe\">\n",
       "  <thead>\n",
       "    <tr style=\"text-align: right;\">\n",
       "      <th></th>\n",
       "      <th>a</th>\n",
       "      <th>b</th>\n",
       "      <th>c</th>\n",
       "      <th>d</th>\n",
       "      <th>e</th>\n",
       "    </tr>\n",
       "  </thead>\n",
       "  <tbody>\n",
       "    <tr>\n",
       "      <th>0</th>\n",
       "      <td>0.039762</td>\n",
       "      <td>0.218517</td>\n",
       "      <td>0.103423</td>\n",
       "      <td>0.957904</td>\n",
       "      <td>x</td>\n",
       "    </tr>\n",
       "    <tr>\n",
       "      <th>1</th>\n",
       "      <td>0.937288</td>\n",
       "      <td>0.041567</td>\n",
       "      <td>0.899125</td>\n",
       "      <td>0.977680</td>\n",
       "      <td>y</td>\n",
       "    </tr>\n",
       "    <tr>\n",
       "      <th>2</th>\n",
       "      <td>0.780504</td>\n",
       "      <td>0.008948</td>\n",
       "      <td>0.557808</td>\n",
       "      <td>0.797510</td>\n",
       "      <td>x</td>\n",
       "    </tr>\n",
       "    <tr>\n",
       "      <th>3</th>\n",
       "      <td>0.672717</td>\n",
       "      <td>0.247870</td>\n",
       "      <td>0.264071</td>\n",
       "      <td>0.444358</td>\n",
       "      <td>z</td>\n",
       "    </tr>\n",
       "    <tr>\n",
       "      <th>4</th>\n",
       "      <td>0.053829</td>\n",
       "      <td>0.520124</td>\n",
       "      <td>0.552264</td>\n",
       "      <td>0.190008</td>\n",
       "      <td>y</td>\n",
       "    </tr>\n",
       "  </tbody>\n",
       "</table>\n",
       "</div>"
      ],
      "text/plain": [
       "          a         b         c         d  e\n",
       "0  0.039762  0.218517  0.103423  0.957904  x\n",
       "1  0.937288  0.041567  0.899125  0.977680  y\n",
       "2  0.780504  0.008948  0.557808  0.797510  x\n",
       "3  0.672717  0.247870  0.264071  0.444358  z\n",
       "4  0.053829  0.520124  0.552264  0.190008  y"
      ]
     },
     "execution_count": 8,
     "metadata": {},
     "output_type": "execute_result"
    }
   ],
   "source": [
    "# Column 'e' is categorical\n",
    "df2.head()"
   ]
  },
  {
   "cell_type": "markdown",
   "id": "1706bd6e-c613-408a-b129-dd7201be20ac",
   "metadata": {},
   "source": [
    "## Histogram (Continuous Data)"
   ]
  },
  {
   "cell_type": "code",
   "execution_count": 136,
   "id": "c2f53b84-b9bb-4cb0-9e22-07a478619945",
   "metadata": {},
   "outputs": [
    {
     "data": {
      "text/plain": [
       "<AxesSubplot:ylabel='Frequency'>"
      ]
     },
     "execution_count": 136,
     "metadata": {},
     "output_type": "execute_result"
    },
    {
     "data": {
      "image/png": "[encoded data removed]",
      "text/plain": [
       "<Figure size 432x288 with 1 Axes>"
      ]
     },
     "metadata": {
      "needs_background": "light"
     },
     "output_type": "display_data"
    }
   ],
   "source": [
    "df2.plot.hist(alpha=.3)"
   ]
  },
  {
   "cell_type": "code",
   "execution_count": 139,
   "id": "3de3c8a1-29bb-4a80-8103-af5d7a1d320d",
   "metadata": {},
   "outputs": [
    {
     "data": {
      "image/png": "[encoded data removed]",
      "text/plain": [
       "<Figure size 432x288 with 1 Axes>"
      ]
     },
     "metadata": {
      "needs_background": "light"
     },
     "output_type": "display_data"
    }
   ],
   "source": [
    "df1.plot.hist(bins=20, edgecolor='k', grid=True,\n",
    "              alpha=.5).autoscale(enable=True, axis='both', tight=True)"
   ]
  },
  {
   "cell_type": "code",
   "execution_count": 17,
   "id": "e842c6e9-37a2-4d27-8a8b-9ed20cb877e9",
   "metadata": {},
   "outputs": [
    {
     "data": {
      "text/plain": [
       "<AxesSubplot:ylabel='Frequency'>"
      ]
     },
     "execution_count": 17,
     "metadata": {},
     "output_type": "execute_result"
    },
    {
     "data": {
      "image/png": "[encoded data removed]",
      "text/plain": [
       "<Figure size 432x288 with 1 Axes>"
      ]
     },
     "metadata": {
      "needs_background": "light"
     },
     "output_type": "display_data"
    }
   ],
   "source": [
    "df1['A'].plot.hist(grid=True)"
   ]
  },
  {
   "cell_type": "markdown",
   "id": "21eb426e-d222-4c1d-9e65-dfe9577509fd",
   "metadata": {},
   "source": [
    "## Bar Plot (Discrete Data)\n",
    "\n",
    "By default the index is the x-axis"
   ]
  },
  {
   "cell_type": "code",
   "execution_count": 96,
   "id": "da3c6a9f-a171-4094-ad14-d9039045459f",
   "metadata": {},
   "outputs": [],
   "source": [
    "df2['e2'] = df2['e']"
   ]
  },
  {
   "cell_type": "code",
   "execution_count": 97,
   "id": "8a0fb520-1bd1-42bb-bc2d-881564942c3e",
   "metadata": {},
   "outputs": [
    {
     "data": {
      "text/html": [
       "<div>\n",
       "<style scoped>\n",
       "    .dataframe tbody tr th:only-of-type {\n",
       "        vertical-align: middle;\n",
       "    }\n",
       "\n",
       "    .dataframe tbody tr th {\n",
       "        vertical-align: top;\n",
       "    }\n",
       "\n",
       "    .dataframe thead th {\n",
       "        text-align: right;\n",
       "    }\n",
       "</style>\n",
       "<table border=\"1\" class=\"dataframe\">\n",
       "  <thead>\n",
       "    <tr style=\"text-align: right;\">\n",
       "      <th></th>\n",
       "      <th>a</th>\n",
       "      <th>b</th>\n",
       "      <th>c</th>\n",
       "      <th>d</th>\n",
       "      <th>e</th>\n",
       "      <th>e2</th>\n",
       "    </tr>\n",
       "  </thead>\n",
       "  <tbody>\n",
       "    <tr>\n",
       "      <th>0</th>\n",
       "      <td>0.039762</td>\n",
       "      <td>0.218517</td>\n",
       "      <td>0.103423</td>\n",
       "      <td>0.957904</td>\n",
       "      <td>x</td>\n",
       "      <td>x</td>\n",
       "    </tr>\n",
       "    <tr>\n",
       "      <th>1</th>\n",
       "      <td>0.937288</td>\n",
       "      <td>0.041567</td>\n",
       "      <td>0.899125</td>\n",
       "      <td>0.977680</td>\n",
       "      <td>y</td>\n",
       "      <td>y</td>\n",
       "    </tr>\n",
       "    <tr>\n",
       "      <th>2</th>\n",
       "      <td>0.780504</td>\n",
       "      <td>0.008948</td>\n",
       "      <td>0.557808</td>\n",
       "      <td>0.797510</td>\n",
       "      <td>x</td>\n",
       "      <td>x</td>\n",
       "    </tr>\n",
       "    <tr>\n",
       "      <th>3</th>\n",
       "      <td>0.672717</td>\n",
       "      <td>0.247870</td>\n",
       "      <td>0.264071</td>\n",
       "      <td>0.444358</td>\n",
       "      <td>z</td>\n",
       "      <td>z</td>\n",
       "    </tr>\n",
       "    <tr>\n",
       "      <th>4</th>\n",
       "      <td>0.053829</td>\n",
       "      <td>0.520124</td>\n",
       "      <td>0.552264</td>\n",
       "      <td>0.190008</td>\n",
       "      <td>y</td>\n",
       "      <td>y</td>\n",
       "    </tr>\n",
       "  </tbody>\n",
       "</table>\n",
       "</div>"
      ],
      "text/plain": [
       "          a         b         c         d  e e2\n",
       "0  0.039762  0.218517  0.103423  0.957904  x  x\n",
       "1  0.937288  0.041567  0.899125  0.977680  y  y\n",
       "2  0.780504  0.008948  0.557808  0.797510  x  x\n",
       "3  0.672717  0.247870  0.264071  0.444358  z  z\n",
       "4  0.053829  0.520124  0.552264  0.190008  y  y"
      ]
     },
     "execution_count": 97,
     "metadata": {},
     "output_type": "execute_result"
    }
   ],
   "source": [
    "df2.head()"
   ]
  },
  {
   "cell_type": "code",
   "execution_count": 100,
   "id": "86a3b7d7-65b7-446b-93af-188c7596ac18",
   "metadata": {},
   "outputs": [
    {
     "data": {
      "text/plain": [
       "<AxesSubplot:>"
      ]
     },
     "execution_count": 100,
     "metadata": {},
     "output_type": "execute_result"
    },
    {
     "data": {
      "image/png": "[encoded data removed]",
      "text/plain": [
       "<Figure size 432x288 with 1 Axes>"
      ]
     },
     "metadata": {
      "needs_background": "light"
     },
     "output_type": "display_data"
    }
   ],
   "source": [
    "df2.plot.bar()"
   ]
  },
  {
   "cell_type": "code",
   "execution_count": 36,
   "id": "4ecb22a7-b903-4592-b108-1d115b7d2c05",
   "metadata": {},
   "outputs": [
    {
     "data": {
      "text/plain": [
       "<AxesSubplot:>"
      ]
     },
     "execution_count": 36,
     "metadata": {},
     "output_type": "execute_result"
    },
    {
     "data": {
      "image/png": "[encoded data removed]",
      "text/plain": [
       "<Figure size 432x288 with 1 Axes>"
      ]
     },
     "metadata": {
      "needs_background": "light"
     },
     "output_type": "display_data"
    }
   ],
   "source": [
    "df2.plot.bar(stacked=True, grid=True)"
   ]
  },
  {
   "cell_type": "markdown",
   "id": "ac4048da-72a3-45bb-b476-84624b6edffd",
   "metadata": {},
   "source": [
    "## Line Plots"
   ]
  },
  {
   "cell_type": "code",
   "execution_count": 25,
   "id": "03f82bfc-6c18-487b-b235-f5f0b52a9a28",
   "metadata": {},
   "outputs": [
    {
     "data": {
      "text/plain": [
       "<AxesSubplot:>"
      ]
     },
     "execution_count": 25,
     "metadata": {},
     "output_type": "execute_result"
    },
    {
     "data": {
      "image/png": "[encoded data removed]",
      "text/plain": [
       "<Figure size 432x288 with 1 Axes>"
      ]
     },
     "metadata": {
      "needs_background": "light"
     },
     "output_type": "display_data"
    }
   ],
   "source": [
    "df2.plot.line()"
   ]
  },
  {
   "cell_type": "code",
   "execution_count": 31,
   "id": "6e07ad73-a3f2-4ece-8c27-44d6380cebdc",
   "metadata": {},
   "outputs": [
    {
     "data": {
      "image/png": "[encoded data removed]",
      "text/plain": [
       "<Figure size 720x288 with 1 Axes>"
      ]
     },
     "metadata": {
      "needs_background": "light"
     },
     "output_type": "display_data"
    }
   ],
   "source": [
    "df2.plot.line(y='a', figsize=(10, 4), grid=True, lw=3).autoscale(enable=True,\n",
    "                                                                 axis='both',\n",
    "                                                                 tight=True)"
   ]
  },
  {
   "cell_type": "markdown",
   "id": "77529b7b-fd40-41e4-a100-08f8ea8ed9d6",
   "metadata": {},
   "source": [
    "## Area Plot\n",
    "Cumme stacked line plots"
   ]
  },
  {
   "cell_type": "code",
   "execution_count": 46,
   "id": "ab3014a0-299a-4485-8e1f-0ed52d9ea91c",
   "metadata": {},
   "outputs": [
    {
     "data": {
      "image/png": "[encoded data removed]",
      "text/plain": [
       "<Figure size 720x288 with 1 Axes>"
      ]
     },
     "metadata": {
      "needs_background": "light"
     },
     "output_type": "display_data"
    }
   ],
   "source": [
    "df2.plot.area(figsize=(10, 4), grid=True, alpha=0.5).autoscale(enable=True,\n",
    "                                                               axis='both',\n",
    "                                                               tight=True)"
   ]
  },
  {
   "cell_type": "code",
   "execution_count": 45,
   "id": "1ab02cb0-6e9b-49f7-9e26-52f2c876d176",
   "metadata": {},
   "outputs": [
    {
     "data": {
      "image/png": "[encoded data removed]",
      "text/plain": [
       "<Figure size 720x288 with 1 Axes>"
      ]
     },
     "metadata": {
      "needs_background": "light"
     },
     "output_type": "display_data"
    }
   ],
   "source": [
    "df2.plot.area(figsize=(10, 4), grid=True, alpha=0.5,\n",
    "              stacked=False).autoscale(enable=True, axis='both', tight=True)"
   ]
  },
  {
   "cell_type": "markdown",
   "id": "a67ddf4d-c429-4ae1-a47a-ac487ee294fd",
   "metadata": {},
   "source": [
    "## Scatter Plot\n",
    "Compare two variables"
   ]
  },
  {
   "cell_type": "code",
   "execution_count": 88,
   "id": "001ce288-658a-4651-aafd-ead566fbd488",
   "metadata": {},
   "outputs": [
    {
     "data": {
      "text/plain": [
       "<AxesSubplot:xlabel='a', ylabel='b'>"
      ]
     },
     "execution_count": 88,
     "metadata": {},
     "output_type": "execute_result"
    },
    {
     "data": {
      "image/png": "[encoded data removed]",
      "text/plain": [
       "<Figure size 432x288 with 1 Axes>"
      ]
     },
     "metadata": {
      "needs_background": "light"
     },
     "output_type": "display_data"
    }
   ],
   "source": [
    "df2.plot.scatter(x='a', y='b')"
   ]
  },
  {
   "cell_type": "code",
   "execution_count": 90,
   "id": "6421ca11-a0e5-4e26-b642-0f8586bd72d6",
   "metadata": {},
   "outputs": [
    {
     "data": {
      "text/plain": [
       "<AxesSubplot:xlabel='a', ylabel='b'>"
      ]
     },
     "execution_count": 90,
     "metadata": {},
     "output_type": "execute_result"
    },
    {
     "data": {
      "image/png": "[encoded data removed]",
      "text/plain": [
       "<Figure size 432x288 with 2 Axes>"
      ]
     },
     "metadata": {
      "needs_background": "light"
     },
     "output_type": "display_data"
    }
   ],
   "source": [
    "df2.plot.scatter(x='a', y='b', c='c', cmap='coolwarm')"
   ]
  },
  {
   "cell_type": "code",
   "execution_count": 92,
   "id": "0de648a3-03c6-412f-887f-08b5ff2d622d",
   "metadata": {},
   "outputs": [
    {
     "data": {
      "text/plain": [
       "<AxesSubplot:xlabel='a', ylabel='b'>"
      ]
     },
     "execution_count": 92,
     "metadata": {},
     "output_type": "execute_result"
    },
    {
     "data": {
      "image/png": "[encoded data removed]",
      "text/plain": [
       "<Figure size 432x288 with 2 Axes>"
      ]
     },
     "metadata": {
      "needs_background": "light"
     },
     "output_type": "display_data"
    }
   ],
   "source": [
    "df2.plot.scatter(x='a', y='b', c='c', alpha=.5, cmap='coolwarm')"
   ]
  },
  {
   "cell_type": "markdown",
   "id": "481bcebd-6612-4997-9b9e-0acd76967adb",
   "metadata": {},
   "source": [
    "## Box Plot"
   ]
  },
  {
   "cell_type": "code",
   "execution_count": 75,
   "id": "dd0ea950-ba50-4c4e-88e3-9d3d26576a0b",
   "metadata": {},
   "outputs": [
    {
     "name": "stdout",
     "output_type": "stream",
     "text": [
      "          a         b         c         d  e\n",
      "0  0.039762  0.218517  0.103423  0.957904  x\n",
      "1  0.937288  0.041567  0.899125  0.977680  y\n",
      "2  0.780504  0.008948  0.557808  0.797510  x\n"
     ]
    }
   ],
   "source": [
    "print(df2.head(3))"
   ]
  },
  {
   "cell_type": "code",
   "execution_count": 76,
   "id": "202379ae-5fa3-44ea-8c60-1bfb4517a77f",
   "metadata": {},
   "outputs": [
    {
     "name": "stdout",
     "output_type": "stream",
     "text": [
      "['x' 'y' 'z']\n"
     ]
    }
   ],
   "source": [
    "print(df2['e'].unique())"
   ]
  },
  {
   "cell_type": "code",
   "execution_count": 114,
   "id": "c52e33e1-dd09-4579-b719-573f9ca342f5",
   "metadata": {},
   "outputs": [],
   "source": [
    "df2 = df2.drop('e2', axis=1)"
   ]
  },
  {
   "cell_type": "code",
   "execution_count": 125,
   "id": "64a107da-70e7-4be4-a636-cdfd80c003ae",
   "metadata": {},
   "outputs": [
    {
     "data": {
      "text/html": [
       "<div>\n",
       "<style scoped>\n",
       "    .dataframe tbody tr th:only-of-type {\n",
       "        vertical-align: middle;\n",
       "    }\n",
       "\n",
       "    .dataframe tbody tr th {\n",
       "        vertical-align: top;\n",
       "    }\n",
       "\n",
       "    .dataframe thead th {\n",
       "        text-align: right;\n",
       "    }\n",
       "</style>\n",
       "<table border=\"1\" class=\"dataframe\">\n",
       "  <thead>\n",
       "    <tr style=\"text-align: right;\">\n",
       "      <th></th>\n",
       "      <th>a</th>\n",
       "      <th>b</th>\n",
       "      <th>c</th>\n",
       "      <th>d</th>\n",
       "    </tr>\n",
       "    <tr>\n",
       "      <th>e</th>\n",
       "      <th></th>\n",
       "      <th></th>\n",
       "      <th></th>\n",
       "      <th></th>\n",
       "    </tr>\n",
       "  </thead>\n",
       "  <tbody>\n",
       "    <tr>\n",
       "      <th>x</th>\n",
       "      <td>4</td>\n",
       "      <td>4</td>\n",
       "      <td>4</td>\n",
       "      <td>4</td>\n",
       "    </tr>\n",
       "    <tr>\n",
       "      <th>y</th>\n",
       "      <td>3</td>\n",
       "      <td>3</td>\n",
       "      <td>3</td>\n",
       "      <td>3</td>\n",
       "    </tr>\n",
       "    <tr>\n",
       "      <th>z</th>\n",
       "      <td>3</td>\n",
       "      <td>3</td>\n",
       "      <td>3</td>\n",
       "      <td>3</td>\n",
       "    </tr>\n",
       "  </tbody>\n",
       "</table>\n",
       "</div>"
      ],
      "text/plain": [
       "   a  b  c  d\n",
       "e            \n",
       "x  4  4  4  4\n",
       "y  3  3  3  3\n",
       "z  3  3  3  3"
      ]
     },
     "execution_count": 125,
     "metadata": {},
     "output_type": "execute_result"
    }
   ],
   "source": [
    "df2.groupby(by='e').count()"
   ]
  },
  {
   "cell_type": "code",
   "execution_count": 103,
   "id": "fbe4dfa2-8c77-4d3d-838d-b1d82c9a6fa2",
   "metadata": {},
   "outputs": [
    {
     "data": {
      "text/plain": [
       "<AxesSubplot:>"
      ]
     },
     "execution_count": 103,
     "metadata": {},
     "output_type": "execute_result"
    },
    {
     "data": {
      "image/png": "[encoded data removed]",
      "text/plain": [
       "<Figure size 432x288 with 1 Axes>"
      ]
     },
     "metadata": {
      "needs_background": "light"
     },
     "output_type": "display_data"
    }
   ],
   "source": [
    "df2.boxplot()"
   ]
  },
  {
   "cell_type": "code",
   "execution_count": 126,
   "id": "c8a02fcb-f415-4b57-977d-82ed5914a096",
   "metadata": {},
   "outputs": [
    {
     "data": {
      "text/plain": [
       "array([[<AxesSubplot:title={'center':'a'}, xlabel='[e]'>,\n",
       "        <AxesSubplot:title={'center':'b'}, xlabel='[e]'>],\n",
       "       [<AxesSubplot:title={'center':'c'}, xlabel='[e]'>,\n",
       "        <AxesSubplot:title={'center':'d'}, xlabel='[e]'>]], dtype=object)"
      ]
     },
     "execution_count": 126,
     "metadata": {},
     "output_type": "execute_result"
    },
    {
     "data": {
      "image/png": "[encoded data removed]",
      "text/plain": [
       "<Figure size 720x288 with 4 Axes>"
      ]
     },
     "metadata": {
      "needs_background": "light"
     },
     "output_type": "display_data"
    }
   ],
   "source": [
    "df2.boxplot(figsize=(10, 4), by='e')"
   ]
  },
  {
   "cell_type": "code",
   "execution_count": 130,
   "id": "558cdf46-1056-4920-b350-90d45cfb82d6",
   "metadata": {},
   "outputs": [
    {
     "name": "stdout",
     "output_type": "stream",
     "text": [
      "       Col1      Col2 Col3\n",
      "0  0.304717 -1.039984    A\n",
      "1  0.750451  0.940565    A\n",
      "2 -1.951035 -1.302180    A\n",
      "3  0.127840 -0.316243    A\n",
      "4 -0.016801 -0.853044    A\n",
      "5  0.879398  0.777792    B\n",
      "6  0.066031  1.127241    B\n",
      "7  0.467509 -0.859292    B\n",
      "8  0.368751 -0.958883  NaN\n",
      "9  0.878450 -0.049926  NaN\n"
     ]
    }
   ],
   "source": [
    "rng = np.random.default_rng(42)\n",
    "\n",
    "df = pd.DataFrame(rng.standard_normal((10, 2)), columns=['Col1', 'Col2'])\n",
    "df['Col3'] = pd.Series(['A', 'A', 'A', 'A', 'A', 'B', 'B', 'B'])\n",
    "print(df)"
   ]
  },
  {
   "cell_type": "code",
   "execution_count": 70,
   "id": "3641cee8-d330-476f-9b69-cd55a5c1130a",
   "metadata": {},
   "outputs": [
    {
     "data": {
      "image/png": "[encoded data removed]",
      "text/plain": [
       "<Figure size 720x288 with 2 Axes>"
      ]
     },
     "metadata": {
      "needs_background": "light"
     },
     "output_type": "display_data"
    }
   ],
   "source": [
    "boxplot = df.boxplot(by='X', figsize=(10, 4))"
   ]
  },
  {
   "cell_type": "code",
   "execution_count": 131,
   "id": "6df6765f-f664-4202-a263-38099cb8eb52",
   "metadata": {},
   "outputs": [
    {
     "data": {
      "text/plain": [
       "<AxesSubplot:ylabel='Density'>"
      ]
     },
     "execution_count": 131,
     "metadata": {},
     "output_type": "execute_result"
    },
    {
     "data": {
      "image/png": "[encoded data removed]",
      "text/plain": [
       "<Figure size 432x288 with 1 Axes>"
      ]
     },
     "metadata": {
      "needs_background": "light"
     },
     "output_type": "display_data"
    }
   ],
   "source": [
    "df2.plot.kde()"
   ]
  },
  {
   "cell_type": "code",
   "execution_count": 155,
   "id": "10633a81-72a6-4481-b671-eee8b2e8e0d7",
   "metadata": {},
   "outputs": [
    {
     "name": "stdout",
     "output_type": "stream",
     "text": [
      "          a         b\n",
      "0  0.304717 -1.039984\n",
      "1  0.750451  0.940565\n",
      "2 -1.951035 -1.302180\n"
     ]
    }
   ],
   "source": [
    "rng = np.random.default_rng(42)\n",
    "df = pd.DataFrame(data=rng.standard_normal((1_000, 2)), columns=list('ab'))\n",
    "print(df.head(3))"
   ]
  },
  {
   "cell_type": "code",
   "execution_count": 144,
   "id": "511cacd8-7414-40c6-a06b-f4a27412b9f4",
   "metadata": {},
   "outputs": [
    {
     "data": {
      "text/plain": [
       "<AxesSubplot:xlabel='a', ylabel='b'>"
      ]
     },
     "execution_count": 144,
     "metadata": {},
     "output_type": "execute_result"
    },
    {
     "data": {
      "image/png": "[encoded data removed]",
      "text/plain": [
       "<Figure size 432x288 with 1 Axes>"
      ]
     },
     "metadata": {
      "needs_background": "light"
     },
     "output_type": "display_data"
    }
   ],
   "source": [
    "df.plot.scatter(x='a', y='b')"
   ]
  },
  {
   "cell_type": "code",
   "execution_count": 149,
   "id": "b8a046e8-798a-4c7f-abf7-8e60aa125e90",
   "metadata": {},
   "outputs": [
    {
     "data": {
      "text/plain": [
       "<AxesSubplot:xlabel='a', ylabel='b'>"
      ]
     },
     "execution_count": 149,
     "metadata": {},
     "output_type": "execute_result"
    },
    {
     "data": {
      "image/png": "[encoded data removed]",
      "text/plain": [
       "<Figure size 432x288 with 2 Axes>"
      ]
     },
     "metadata": {
      "needs_background": "light"
     },
     "output_type": "display_data"
    }
   ],
   "source": [
    "df.plot.hexbin(x='a', y='b', gridsize=25, cmap='Oranges')"
   ]
  },
  {
   "cell_type": "markdown",
   "id": "d02dd4fa-f712-4748-8da7-59b8d5f4fb98",
   "metadata": {},
   "source": [
    "## Customizing Plots with Pandas"
   ]
  },
  {
   "cell_type": "code",
   "execution_count": 193,
   "id": "67c4f767-bff0-45a7-bc3b-99967de0d0fd",
   "metadata": {},
   "outputs": [
    {
     "data": {
      "text/plain": [
       "<matplotlib.legend.Legend at 0x7fbe6af88710>"
      ]
     },
     "execution_count": 193,
     "metadata": {},
     "output_type": "execute_result"
    },
    {
     "data": {
      "image/png": "[encoded data removed]",
      "text/plain": [
       "<Figure size 720x216 with 1 Axes>"
      ]
     },
     "metadata": {
      "needs_background": "light"
     },
     "output_type": "display_data"
    }
   ],
   "source": [
    "ax = df2[list('ac')].plot(figsize=(10, 3), ls=':', lw=3, title='My titel')\n",
    "# c = 'blue'\n",
    "ax.set(xlabel='My x label', ylabel='My y label')\n",
    "ax.legend(bbox_to_anchor=(1, 1))\n",
    "# loc = 0"
   ]
  },
  {
   "cell_type": "code",
   "execution_count": null,
   "id": "d6e40dca-f31b-4936-a4d8-8479b6440ee6",
   "metadata": {},
   "outputs": [],
   "source": []
  },
  {
   "cell_type": "code",
   "execution_count": null,
   "id": "d1728137-5d94-44e3-be46-0b817cba6d4a",
   "metadata": {},
   "outputs": [],
   "source": []
  }
 ],
 "metadata": {
  "kernelspec": {
   "display_name": "Python 3 (ipykernel)",
   "language": "python",
   "name": "python3"
  },
  "language_info": {
   "codemirror_mode": {
    "name": "ipython",
    "version": 3
   },
   "file_extension": ".py",
   "mimetype": "text/x-python",
   "name": "python",
   "nbconvert_exporter": "python",
   "pygments_lexer": "ipython3",
   "version": "3.7.12"
  },
  "toc-autonumbering": true
 },
 "nbformat": 4,
 "nbformat_minor": 5
}
