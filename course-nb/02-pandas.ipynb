{
 "cells": [
  {
   "cell_type": "markdown",
   "id": "9f8448e3-0813-490c-a181-fcc36bc93fa9",
   "metadata": {},
   "source": [
    "# Pandas"
   ]
  },
  {
   "cell_type": "markdown",
   "id": "1349354b-bbc8-4432-8f15-a8f9dc9266cc",
   "metadata": {},
   "source": [
    "## Series"
   ]
  },
  {
   "cell_type": "code",
   "execution_count": 1,
   "id": "d885c49b-05c8-403a-b7d6-75e3c2af0528",
   "metadata": {},
   "outputs": [],
   "source": [
    "import numpy as np \n",
    "import pandas as pd"
   ]
  },
  {
   "cell_type": "code",
   "execution_count": 9,
   "id": "8f3072c1-d324-47d4-8f9e-27e7d057a094",
   "metadata": {},
   "outputs": [],
   "source": [
    "labels = ['A','B','C']\n",
    "l = [10,20,30]\n",
    "arr = np.array(l)\n",
    "d = {'a':10, 'b':20, 'c':30}"
   ]
  },
  {
   "cell_type": "code",
   "execution_count": 6,
   "id": "9a6d41b7-1768-470d-9dbf-6c6330adf081",
   "metadata": {},
   "outputs": [
    {
     "data": {
      "text/plain": [
       "0    10\n",
       "1    20\n",
       "2    30\n",
       "dtype: int64"
      ]
     },
     "execution_count": 6,
     "metadata": {},
     "output_type": "execute_result"
    }
   ],
   "source": [
    "pd.Series(l)"
   ]
  },
  {
   "cell_type": "code",
   "execution_count": 7,
   "id": "10214344-4a5b-4198-b435-9fcebf63297c",
   "metadata": {},
   "outputs": [
    {
     "data": {
      "text/plain": [
       "0    10\n",
       "1    20\n",
       "2    30\n",
       "dtype: int64"
      ]
     },
     "execution_count": 7,
     "metadata": {},
     "output_type": "execute_result"
    }
   ],
   "source": [
    "pd.Series(arr)"
   ]
  },
  {
   "cell_type": "code",
   "execution_count": 111,
   "id": "fd0bc024-82c0-44ce-823f-9db9135121e8",
   "metadata": {},
   "outputs": [],
   "source": [
    "my_series = pd.Series(data=[1,2,3,4], index='A B C D'.split())"
   ]
  },
  {
   "cell_type": "code",
   "execution_count": 114,
   "id": "18cb17be-8bbc-4ede-a7b7-60595abdf6cb",
   "metadata": {},
   "outputs": [
    {
     "data": {
      "text/plain": [
       "A    1\n",
       "B    2\n",
       "C    3\n",
       "D    4\n",
       "dtype: int64"
      ]
     },
     "execution_count": 114,
     "metadata": {},
     "output_type": "execute_result"
    }
   ],
   "source": [
    "my_series[::]"
   ]
  },
  {
   "cell_type": "code",
   "execution_count": null,
   "id": "f59f94d8-9e6f-4da1-b1ff-71d93b99fa8b",
   "metadata": {},
   "outputs": [],
   "source": []
  },
  {
   "cell_type": "code",
   "execution_count": 11,
   "id": "ed1c391d-4ab8-40cb-8a59-79c4fe4c0b8f",
   "metadata": {},
   "outputs": [
    {
     "data": {
      "text/plain": [
       "0      1\n",
       "1      a\n",
       "2    0.5\n",
       "dtype: object"
      ]
     },
     "execution_count": 11,
     "metadata": {},
     "output_type": "execute_result"
    }
   ],
   "source": [
    "pd.Series(data=[1,'a',0.5])"
   ]
  },
  {
   "cell_type": "code",
   "execution_count": 130,
   "id": "bcac0017-2f00-433e-92b7-797a233c7ff4",
   "metadata": {},
   "outputs": [
    {
     "name": "stdout",
     "output_type": "stream",
     "text": [
      "A    1\n",
      "B    2\n",
      "C    3\n",
      "dtype: int64 \n",
      "\n",
      "A    4\n",
      "B    5\n",
      "D    6\n",
      "E    7\n",
      "dtype: int64\n"
     ]
    }
   ],
   "source": [
    "s1 = pd.Series(data=[1,2,3], index=['A','B','C'])\n",
    "s2 = pd.Series(data=[4,5,6,7], index=['A','B','D','E'])\n",
    "print(s1,'\\n')\n",
    "print(s2)"
   ]
  },
  {
   "cell_type": "code",
   "execution_count": 131,
   "id": "3201822f-345b-4a41-8a00-f68506fe8e96",
   "metadata": {},
   "outputs": [
    {
     "data": {
      "text/plain": [
       "A    5.0\n",
       "B    7.0\n",
       "C    NaN\n",
       "D    NaN\n",
       "E    NaN\n",
       "dtype: float64"
      ]
     },
     "execution_count": 131,
     "metadata": {},
     "output_type": "execute_result"
    }
   ],
   "source": [
    "(s1+s2)"
   ]
  },
  {
   "cell_type": "markdown",
   "id": "6a03e901-e9c1-4e14-8591-29c0881ca618",
   "metadata": {},
   "source": [
    "## DataFrame"
   ]
  },
  {
   "cell_type": "code",
   "execution_count": 151,
   "id": "3bfd5366-7394-48f2-b885-c1a4b0f7a1d0",
   "metadata": {},
   "outputs": [
    {
     "data": {
      "text/html": [
       "<div>\n",
       "<style scoped>\n",
       "    .dataframe tbody tr th:only-of-type {\n",
       "        vertical-align: middle;\n",
       "    }\n",
       "\n",
       "    .dataframe tbody tr th {\n",
       "        vertical-align: top;\n",
       "    }\n",
       "\n",
       "    .dataframe thead th {\n",
       "        text-align: right;\n",
       "    }\n",
       "</style>\n",
       "<table border=\"1\" class=\"dataframe\">\n",
       "  <thead>\n",
       "    <tr style=\"text-align: right;\">\n",
       "      <th></th>\n",
       "      <th>A</th>\n",
       "      <th>B</th>\n",
       "      <th>C</th>\n",
       "    </tr>\n",
       "  </thead>\n",
       "  <tbody>\n",
       "    <tr>\n",
       "      <th>X</th>\n",
       "      <td>1</td>\n",
       "      <td>2</td>\n",
       "      <td>3</td>\n",
       "    </tr>\n",
       "    <tr>\n",
       "      <th>Y</th>\n",
       "      <td>4</td>\n",
       "      <td>5</td>\n",
       "      <td>6</td>\n",
       "    </tr>\n",
       "    <tr>\n",
       "      <th>Z</th>\n",
       "      <td>7</td>\n",
       "      <td>8</td>\n",
       "      <td>9</td>\n",
       "    </tr>\n",
       "  </tbody>\n",
       "</table>\n",
       "</div>"
      ],
      "text/plain": [
       "   A  B  C\n",
       "X  1  2  3\n",
       "Y  4  5  6\n",
       "Z  7  8  9"
      ]
     },
     "execution_count": 151,
     "metadata": {},
     "output_type": "execute_result"
    }
   ],
   "source": [
    "pd.DataFrame(data = np.arange(1,10).reshape(3,3), columns = list('ABC'), index=list('XYZ'))"
   ]
  },
  {
   "cell_type": "code",
   "execution_count": 152,
   "id": "c267fc6a-2689-40cb-bed7-794ea311105b",
   "metadata": {},
   "outputs": [
    {
     "data": {
      "text/plain": [
       "array([[ 0.30471708, -1.03998411,  0.7504512 ,  0.94056472],\n",
       "       [-1.95103519, -1.30217951,  0.1278404 , -0.31624259],\n",
       "       [-0.01680116, -0.85304393,  0.87939797,  0.77779194],\n",
       "       [ 0.0660307 ,  1.12724121,  0.46750934, -0.85929246],\n",
       "       [ 0.36875078, -0.9588826 ,  0.8784503 , -0.04992591]])"
      ]
     },
     "execution_count": 152,
     "metadata": {},
     "output_type": "execute_result"
    }
   ],
   "source": [
    "rng = np.random.default_rng(42)\n",
    "m = rng.standard_normal((5,4))\n",
    "m"
   ]
  },
  {
   "cell_type": "code",
   "execution_count": 153,
   "id": "4f70877f-43f8-4322-93c4-38f8d8e29161",
   "metadata": {},
   "outputs": [
    {
     "data": {
      "text/html": [
       "<div>\n",
       "<style scoped>\n",
       "    .dataframe tbody tr th:only-of-type {\n",
       "        vertical-align: middle;\n",
       "    }\n",
       "\n",
       "    .dataframe tbody tr th {\n",
       "        vertical-align: top;\n",
       "    }\n",
       "\n",
       "    .dataframe thead th {\n",
       "        text-align: right;\n",
       "    }\n",
       "</style>\n",
       "<table border=\"1\" class=\"dataframe\">\n",
       "  <thead>\n",
       "    <tr style=\"text-align: right;\">\n",
       "      <th></th>\n",
       "      <th>W</th>\n",
       "      <th>X</th>\n",
       "      <th>Y</th>\n",
       "      <th>Z</th>\n",
       "    </tr>\n",
       "  </thead>\n",
       "  <tbody>\n",
       "    <tr>\n",
       "      <th>A</th>\n",
       "      <td>0.304717</td>\n",
       "      <td>-1.039984</td>\n",
       "      <td>0.750451</td>\n",
       "      <td>0.940565</td>\n",
       "    </tr>\n",
       "    <tr>\n",
       "      <th>B</th>\n",
       "      <td>-1.951035</td>\n",
       "      <td>-1.302180</td>\n",
       "      <td>0.127840</td>\n",
       "      <td>-0.316243</td>\n",
       "    </tr>\n",
       "    <tr>\n",
       "      <th>C</th>\n",
       "      <td>-0.016801</td>\n",
       "      <td>-0.853044</td>\n",
       "      <td>0.879398</td>\n",
       "      <td>0.777792</td>\n",
       "    </tr>\n",
       "    <tr>\n",
       "      <th>D</th>\n",
       "      <td>0.066031</td>\n",
       "      <td>1.127241</td>\n",
       "      <td>0.467509</td>\n",
       "      <td>-0.859292</td>\n",
       "    </tr>\n",
       "    <tr>\n",
       "      <th>E</th>\n",
       "      <td>0.368751</td>\n",
       "      <td>-0.958883</td>\n",
       "      <td>0.878450</td>\n",
       "      <td>-0.049926</td>\n",
       "    </tr>\n",
       "  </tbody>\n",
       "</table>\n",
       "</div>"
      ],
      "text/plain": [
       "          W         X         Y         Z\n",
       "A  0.304717 -1.039984  0.750451  0.940565\n",
       "B -1.951035 -1.302180  0.127840 -0.316243\n",
       "C -0.016801 -0.853044  0.879398  0.777792\n",
       "D  0.066031  1.127241  0.467509 -0.859292\n",
       "E  0.368751 -0.958883  0.878450 -0.049926"
      ]
     },
     "execution_count": 153,
     "metadata": {},
     "output_type": "execute_result"
    }
   ],
   "source": [
    "df = pd.DataFrame(data=m, index='A B C D E'.split(),columns='W X Y Z'.split())\n",
    "df"
   ]
  },
  {
   "cell_type": "code",
   "execution_count": 188,
   "id": "03c078c4-f9bc-4b4e-ab73-4e365f495585",
   "metadata": {},
   "outputs": [],
   "source": [
    "df.loc[::,'new_new_col'] = df.loc[::,'X'] + df.loc[::,'Y']"
   ]
  },
  {
   "cell_type": "code",
   "execution_count": 200,
   "id": "d27b37a2-5ab0-4315-9675-3d1b1ae3374a",
   "metadata": {},
   "outputs": [],
   "source": [
    "df.drop(labels='new_col new_new_col'.split(),axis=1,inplace=True)"
   ]
  },
  {
   "cell_type": "code",
   "execution_count": 209,
   "id": "20633d0f-77f0-4ead-a43e-a5422b27cc09",
   "metadata": {},
   "outputs": [
    {
     "data": {
      "text/html": [
       "<div>\n",
       "<style scoped>\n",
       "    .dataframe tbody tr th:only-of-type {\n",
       "        vertical-align: middle;\n",
       "    }\n",
       "\n",
       "    .dataframe tbody tr th {\n",
       "        vertical-align: top;\n",
       "    }\n",
       "\n",
       "    .dataframe thead th {\n",
       "        text-align: right;\n",
       "    }\n",
       "</style>\n",
       "<table border=\"1\" class=\"dataframe\">\n",
       "  <thead>\n",
       "    <tr style=\"text-align: right;\">\n",
       "      <th></th>\n",
       "      <th>W</th>\n",
       "      <th>X</th>\n",
       "      <th>Y</th>\n",
       "      <th>Z</th>\n",
       "    </tr>\n",
       "  </thead>\n",
       "  <tbody>\n",
       "    <tr>\n",
       "      <th>A</th>\n",
       "      <td>0.304717</td>\n",
       "      <td>NaN</td>\n",
       "      <td>0.750451</td>\n",
       "      <td>0.940565</td>\n",
       "    </tr>\n",
       "    <tr>\n",
       "      <th>B</th>\n",
       "      <td>NaN</td>\n",
       "      <td>NaN</td>\n",
       "      <td>0.127840</td>\n",
       "      <td>NaN</td>\n",
       "    </tr>\n",
       "    <tr>\n",
       "      <th>C</th>\n",
       "      <td>NaN</td>\n",
       "      <td>NaN</td>\n",
       "      <td>0.879398</td>\n",
       "      <td>0.777792</td>\n",
       "    </tr>\n",
       "    <tr>\n",
       "      <th>D</th>\n",
       "      <td>0.066031</td>\n",
       "      <td>1.127241</td>\n",
       "      <td>0.467509</td>\n",
       "      <td>NaN</td>\n",
       "    </tr>\n",
       "    <tr>\n",
       "      <th>E</th>\n",
       "      <td>0.368751</td>\n",
       "      <td>NaN</td>\n",
       "      <td>0.878450</td>\n",
       "      <td>NaN</td>\n",
       "    </tr>\n",
       "  </tbody>\n",
       "</table>\n",
       "</div>"
      ],
      "text/plain": [
       "          W         X         Y         Z\n",
       "A  0.304717       NaN  0.750451  0.940565\n",
       "B       NaN       NaN  0.127840       NaN\n",
       "C       NaN       NaN  0.879398  0.777792\n",
       "D  0.066031  1.127241  0.467509       NaN\n",
       "E  0.368751       NaN  0.878450       NaN"
      ]
     },
     "execution_count": 209,
     "metadata": {},
     "output_type": "execute_result"
    }
   ],
   "source": [
    "df[df>0]"
   ]
  },
  {
   "cell_type": "code",
   "execution_count": 219,
   "id": "5ba4bb68-65ec-4cf8-968d-80c0488ab720",
   "metadata": {},
   "outputs": [],
   "source": [
    "df.loc['A','X'] = 1"
   ]
  },
  {
   "cell_type": "code",
   "execution_count": 237,
   "id": "c1d46d4a-5d22-42ab-bb30-f2d8df11bd95",
   "metadata": {},
   "outputs": [
    {
     "data": {
      "text/html": [
       "<div>\n",
       "<style scoped>\n",
       "    .dataframe tbody tr th:only-of-type {\n",
       "        vertical-align: middle;\n",
       "    }\n",
       "\n",
       "    .dataframe tbody tr th {\n",
       "        vertical-align: top;\n",
       "    }\n",
       "\n",
       "    .dataframe thead th {\n",
       "        text-align: right;\n",
       "    }\n",
       "</style>\n",
       "<table border=\"1\" class=\"dataframe\">\n",
       "  <thead>\n",
       "    <tr style=\"text-align: right;\">\n",
       "      <th></th>\n",
       "      <th>W</th>\n",
       "      <th>X</th>\n",
       "      <th>Y</th>\n",
       "      <th>Z</th>\n",
       "    </tr>\n",
       "  </thead>\n",
       "  <tbody>\n",
       "    <tr>\n",
       "      <th>A</th>\n",
       "      <td>0.304717</td>\n",
       "      <td>1.0</td>\n",
       "      <td>0.750451</td>\n",
       "      <td>0.940565</td>\n",
       "    </tr>\n",
       "  </tbody>\n",
       "</table>\n",
       "</div>"
      ],
      "text/plain": [
       "          W    X         Y         Z\n",
       "A  0.304717  1.0  0.750451  0.940565"
      ]
     },
     "execution_count": 237,
     "metadata": {},
     "output_type": "execute_result"
    }
   ],
   "source": [
    "crit = df > 0\n",
    "df[crit].dropna(axis='index')"
   ]
  },
  {
   "cell_type": "code",
   "execution_count": 243,
   "id": "b35c487a-6ae9-4b11-a2fe-da96e7e81df1",
   "metadata": {},
   "outputs": [],
   "source": [
    "df.reset_index(inplace=True)"
   ]
  },
  {
   "cell_type": "code",
   "execution_count": 244,
   "id": "36208116-2375-4bf7-8036-61843e640331",
   "metadata": {},
   "outputs": [],
   "source": [
    "new_index = 'AA BB CC DD EE'.split()"
   ]
  },
  {
   "cell_type": "code",
   "execution_count": 245,
   "id": "1dd5f9f3-e5b4-4bd5-81e8-5dae104182c8",
   "metadata": {},
   "outputs": [],
   "source": [
    "df['new_index'] = new_index"
   ]
  },
  {
   "cell_type": "code",
   "execution_count": 246,
   "id": "402a38ae-3c09-41a8-864d-de213ca72ec1",
   "metadata": {},
   "outputs": [
    {
     "data": {
      "text/html": [
       "<div>\n",
       "<style scoped>\n",
       "    .dataframe tbody tr th:only-of-type {\n",
       "        vertical-align: middle;\n",
       "    }\n",
       "\n",
       "    .dataframe tbody tr th {\n",
       "        vertical-align: top;\n",
       "    }\n",
       "\n",
       "    .dataframe thead th {\n",
       "        text-align: right;\n",
       "    }\n",
       "</style>\n",
       "<table border=\"1\" class=\"dataframe\">\n",
       "  <thead>\n",
       "    <tr style=\"text-align: right;\">\n",
       "      <th></th>\n",
       "      <th>index</th>\n",
       "      <th>W</th>\n",
       "      <th>X</th>\n",
       "      <th>Y</th>\n",
       "      <th>Z</th>\n",
       "      <th>new_index</th>\n",
       "    </tr>\n",
       "  </thead>\n",
       "  <tbody>\n",
       "    <tr>\n",
       "      <th>0</th>\n",
       "      <td>A</td>\n",
       "      <td>0.304717</td>\n",
       "      <td>1.000000</td>\n",
       "      <td>0.750451</td>\n",
       "      <td>0.940565</td>\n",
       "      <td>AA</td>\n",
       "    </tr>\n",
       "    <tr>\n",
       "      <th>1</th>\n",
       "      <td>B</td>\n",
       "      <td>-1.951035</td>\n",
       "      <td>-1.302180</td>\n",
       "      <td>0.127840</td>\n",
       "      <td>-0.316243</td>\n",
       "      <td>BB</td>\n",
       "    </tr>\n",
       "    <tr>\n",
       "      <th>2</th>\n",
       "      <td>C</td>\n",
       "      <td>-0.016801</td>\n",
       "      <td>-0.853044</td>\n",
       "      <td>0.879398</td>\n",
       "      <td>0.777792</td>\n",
       "      <td>CC</td>\n",
       "    </tr>\n",
       "    <tr>\n",
       "      <th>3</th>\n",
       "      <td>D</td>\n",
       "      <td>0.066031</td>\n",
       "      <td>1.127241</td>\n",
       "      <td>0.467509</td>\n",
       "      <td>-0.859292</td>\n",
       "      <td>DD</td>\n",
       "    </tr>\n",
       "    <tr>\n",
       "      <th>4</th>\n",
       "      <td>E</td>\n",
       "      <td>0.368751</td>\n",
       "      <td>-0.958883</td>\n",
       "      <td>0.878450</td>\n",
       "      <td>-0.049926</td>\n",
       "      <td>EE</td>\n",
       "    </tr>\n",
       "  </tbody>\n",
       "</table>\n",
       "</div>"
      ],
      "text/plain": [
       "  index         W         X         Y         Z new_index\n",
       "0     A  0.304717  1.000000  0.750451  0.940565        AA\n",
       "1     B -1.951035 -1.302180  0.127840 -0.316243        BB\n",
       "2     C -0.016801 -0.853044  0.879398  0.777792        CC\n",
       "3     D  0.066031  1.127241  0.467509 -0.859292        DD\n",
       "4     E  0.368751 -0.958883  0.878450 -0.049926        EE"
      ]
     },
     "execution_count": 246,
     "metadata": {},
     "output_type": "execute_result"
    }
   ],
   "source": [
    "df"
   ]
  },
  {
   "cell_type": "code",
   "execution_count": 247,
   "id": "eada695d-f8ff-46a5-b1e5-33ecc77766af",
   "metadata": {},
   "outputs": [],
   "source": [
    "df.set_index('new_index',inplace=True)"
   ]
  },
  {
   "cell_type": "code",
   "execution_count": 250,
   "id": "30eeddd6-6539-4d83-85c9-fe9516f0c583",
   "metadata": {},
   "outputs": [],
   "source": [
    "df.rename({'index':'old_index'},axis=1,inplace=True)"
   ]
  },
  {
   "cell_type": "code",
   "execution_count": 251,
   "id": "cd0f762e-617d-426b-b74f-52cef20f0796",
   "metadata": {},
   "outputs": [
    {
     "data": {
      "text/html": [
       "<div>\n",
       "<style scoped>\n",
       "    .dataframe tbody tr th:only-of-type {\n",
       "        vertical-align: middle;\n",
       "    }\n",
       "\n",
       "    .dataframe tbody tr th {\n",
       "        vertical-align: top;\n",
       "    }\n",
       "\n",
       "    .dataframe thead th {\n",
       "        text-align: right;\n",
       "    }\n",
       "</style>\n",
       "<table border=\"1\" class=\"dataframe\">\n",
       "  <thead>\n",
       "    <tr style=\"text-align: right;\">\n",
       "      <th></th>\n",
       "      <th>old_index</th>\n",
       "      <th>W</th>\n",
       "      <th>X</th>\n",
       "      <th>Y</th>\n",
       "      <th>Z</th>\n",
       "    </tr>\n",
       "    <tr>\n",
       "      <th>new_index</th>\n",
       "      <th></th>\n",
       "      <th></th>\n",
       "      <th></th>\n",
       "      <th></th>\n",
       "      <th></th>\n",
       "    </tr>\n",
       "  </thead>\n",
       "  <tbody>\n",
       "    <tr>\n",
       "      <th>AA</th>\n",
       "      <td>A</td>\n",
       "      <td>0.304717</td>\n",
       "      <td>1.000000</td>\n",
       "      <td>0.750451</td>\n",
       "      <td>0.940565</td>\n",
       "    </tr>\n",
       "    <tr>\n",
       "      <th>BB</th>\n",
       "      <td>B</td>\n",
       "      <td>-1.951035</td>\n",
       "      <td>-1.302180</td>\n",
       "      <td>0.127840</td>\n",
       "      <td>-0.316243</td>\n",
       "    </tr>\n",
       "    <tr>\n",
       "      <th>CC</th>\n",
       "      <td>C</td>\n",
       "      <td>-0.016801</td>\n",
       "      <td>-0.853044</td>\n",
       "      <td>0.879398</td>\n",
       "      <td>0.777792</td>\n",
       "    </tr>\n",
       "    <tr>\n",
       "      <th>DD</th>\n",
       "      <td>D</td>\n",
       "      <td>0.066031</td>\n",
       "      <td>1.127241</td>\n",
       "      <td>0.467509</td>\n",
       "      <td>-0.859292</td>\n",
       "    </tr>\n",
       "    <tr>\n",
       "      <th>EE</th>\n",
       "      <td>E</td>\n",
       "      <td>0.368751</td>\n",
       "      <td>-0.958883</td>\n",
       "      <td>0.878450</td>\n",
       "      <td>-0.049926</td>\n",
       "    </tr>\n",
       "  </tbody>\n",
       "</table>\n",
       "</div>"
      ],
      "text/plain": [
       "          old_index         W         X         Y         Z\n",
       "new_index                                                  \n",
       "AA                A  0.304717  1.000000  0.750451  0.940565\n",
       "BB                B -1.951035 -1.302180  0.127840 -0.316243\n",
       "CC                C -0.016801 -0.853044  0.879398  0.777792\n",
       "DD                D  0.066031  1.127241  0.467509 -0.859292\n",
       "EE                E  0.368751 -0.958883  0.878450 -0.049926"
      ]
     },
     "execution_count": 251,
     "metadata": {},
     "output_type": "execute_result"
    }
   ],
   "source": [
    "df"
   ]
  },
  {
   "cell_type": "code",
   "execution_count": 255,
   "id": "fae69bd8-949c-4dfe-86ba-d7d8350c2319",
   "metadata": {},
   "outputs": [
    {
     "data": {
      "text/plain": [
       "array([[ 0.30471708, -1.03998411,  0.7504512 ,  0.94056472],\n",
       "       [-1.95103519, -1.30217951,  0.1278404 , -0.31624259],\n",
       "       [-0.01680116, -0.85304393,  0.87939797,  0.77779194],\n",
       "       [ 0.0660307 ,  1.12724121,  0.46750934, -0.85929246],\n",
       "       [ 0.36875078, -0.9588826 ,  0.8784503 , -0.04992591]])"
      ]
     },
     "execution_count": 255,
     "metadata": {},
     "output_type": "execute_result"
    }
   ],
   "source": [
    "rng = np.random.default_rng(42)\n",
    "data = rng.standard_normal((5,4))\n",
    "data"
   ]
  },
  {
   "cell_type": "code",
   "execution_count": 257,
   "id": "e8bcfe38-4a9a-4a93-bc16-7b37f4449847",
   "metadata": {},
   "outputs": [
    {
     "data": {
      "text/html": [
       "<div>\n",
       "<style scoped>\n",
       "    .dataframe tbody tr th:only-of-type {\n",
       "        vertical-align: middle;\n",
       "    }\n",
       "\n",
       "    .dataframe tbody tr th {\n",
       "        vertical-align: top;\n",
       "    }\n",
       "\n",
       "    .dataframe thead th {\n",
       "        text-align: right;\n",
       "    }\n",
       "</style>\n",
       "<table border=\"1\" class=\"dataframe\">\n",
       "  <thead>\n",
       "    <tr style=\"text-align: right;\">\n",
       "      <th></th>\n",
       "      <th>W</th>\n",
       "      <th>X</th>\n",
       "      <th>Y</th>\n",
       "      <th>Z</th>\n",
       "    </tr>\n",
       "  </thead>\n",
       "  <tbody>\n",
       "    <tr>\n",
       "      <th>A</th>\n",
       "      <td>0.304717</td>\n",
       "      <td>-1.039984</td>\n",
       "      <td>0.750451</td>\n",
       "      <td>0.940565</td>\n",
       "    </tr>\n",
       "    <tr>\n",
       "      <th>B</th>\n",
       "      <td>-1.951035</td>\n",
       "      <td>-1.302180</td>\n",
       "      <td>0.127840</td>\n",
       "      <td>-0.316243</td>\n",
       "    </tr>\n",
       "    <tr>\n",
       "      <th>C</th>\n",
       "      <td>-0.016801</td>\n",
       "      <td>-0.853044</td>\n",
       "      <td>0.879398</td>\n",
       "      <td>0.777792</td>\n",
       "    </tr>\n",
       "    <tr>\n",
       "      <th>D</th>\n",
       "      <td>0.066031</td>\n",
       "      <td>1.127241</td>\n",
       "      <td>0.467509</td>\n",
       "      <td>-0.859292</td>\n",
       "    </tr>\n",
       "    <tr>\n",
       "      <th>E</th>\n",
       "      <td>0.368751</td>\n",
       "      <td>-0.958883</td>\n",
       "      <td>0.878450</td>\n",
       "      <td>-0.049926</td>\n",
       "    </tr>\n",
       "  </tbody>\n",
       "</table>\n",
       "</div>"
      ],
      "text/plain": [
       "          W         X         Y         Z\n",
       "A  0.304717 -1.039984  0.750451  0.940565\n",
       "B -1.951035 -1.302180  0.127840 -0.316243\n",
       "C -0.016801 -0.853044  0.879398  0.777792\n",
       "D  0.066031  1.127241  0.467509 -0.859292\n",
       "E  0.368751 -0.958883  0.878450 -0.049926"
      ]
     },
     "execution_count": 257,
     "metadata": {},
     "output_type": "execute_result"
    }
   ],
   "source": [
    "idx = list('ABCDE')\n",
    "cols = list('WXYZ')\n",
    "df = pd.DataFrame(data=data, index=idx, columns=cols)\n",
    "df"
   ]
  },
  {
   "cell_type": "code",
   "execution_count": 258,
   "id": "74ad9711-972a-4f60-b66d-2d678f37644a",
   "metadata": {},
   "outputs": [
    {
     "data": {
      "text/html": [
       "<div>\n",
       "<style scoped>\n",
       "    .dataframe tbody tr th:only-of-type {\n",
       "        vertical-align: middle;\n",
       "    }\n",
       "\n",
       "    .dataframe tbody tr th {\n",
       "        vertical-align: top;\n",
       "    }\n",
       "\n",
       "    .dataframe thead th {\n",
       "        text-align: right;\n",
       "    }\n",
       "</style>\n",
       "<table border=\"1\" class=\"dataframe\">\n",
       "  <thead>\n",
       "    <tr style=\"text-align: right;\">\n",
       "      <th></th>\n",
       "      <th>old_index</th>\n",
       "      <th>W</th>\n",
       "      <th>X</th>\n",
       "      <th>Y</th>\n",
       "      <th>Z</th>\n",
       "    </tr>\n",
       "    <tr>\n",
       "      <th>new_index</th>\n",
       "      <th></th>\n",
       "      <th></th>\n",
       "      <th></th>\n",
       "      <th></th>\n",
       "      <th></th>\n",
       "    </tr>\n",
       "  </thead>\n",
       "  <tbody>\n",
       "    <tr>\n",
       "      <th>AA</th>\n",
       "      <td>A</td>\n",
       "      <td>0.304717</td>\n",
       "      <td>-1.039984</td>\n",
       "      <td>0.750451</td>\n",
       "      <td>0.940565</td>\n",
       "    </tr>\n",
       "    <tr>\n",
       "      <th>BB</th>\n",
       "      <td>B</td>\n",
       "      <td>-1.951035</td>\n",
       "      <td>-1.302180</td>\n",
       "      <td>0.127840</td>\n",
       "      <td>-0.316243</td>\n",
       "    </tr>\n",
       "    <tr>\n",
       "      <th>CC</th>\n",
       "      <td>C</td>\n",
       "      <td>-0.016801</td>\n",
       "      <td>-0.853044</td>\n",
       "      <td>0.879398</td>\n",
       "      <td>0.777792</td>\n",
       "    </tr>\n",
       "    <tr>\n",
       "      <th>DD</th>\n",
       "      <td>D</td>\n",
       "      <td>0.066031</td>\n",
       "      <td>1.127241</td>\n",
       "      <td>0.467509</td>\n",
       "      <td>-0.859292</td>\n",
       "    </tr>\n",
       "    <tr>\n",
       "      <th>EE</th>\n",
       "      <td>E</td>\n",
       "      <td>0.368751</td>\n",
       "      <td>-0.958883</td>\n",
       "      <td>0.878450</td>\n",
       "      <td>-0.049926</td>\n",
       "    </tr>\n",
       "  </tbody>\n",
       "</table>\n",
       "</div>"
      ],
      "text/plain": [
       "          old_index         W         X         Y         Z\n",
       "new_index                                                  \n",
       "AA                A  0.304717 -1.039984  0.750451  0.940565\n",
       "BB                B -1.951035 -1.302180  0.127840 -0.316243\n",
       "CC                C -0.016801 -0.853044  0.879398  0.777792\n",
       "DD                D  0.066031  1.127241  0.467509 -0.859292\n",
       "EE                E  0.368751 -0.958883  0.878450 -0.049926"
      ]
     },
     "execution_count": 258,
     "metadata": {},
     "output_type": "execute_result"
    }
   ],
   "source": [
    "# Reset index to default integer position based index\n",
    "df.reset_index(inplace=True)\n",
    "# Rename old index\n",
    "df.rename({'index':'old_index'},axis=1,inplace=True)\n",
    "# Create data for the new index\n",
    "new_index = 'AA BB CC DD EE'.split()\n",
    "# Assign data to new column\n",
    "df['new_index'] = new_index\n",
    "# Set new index\n",
    "df.set_index('new_index',inplace=True)\n",
    "df"
   ]
  },
  {
   "cell_type": "code",
   "execution_count": 259,
   "id": "0af36d6c-ecb7-4693-a6f8-3446a14ee504",
   "metadata": {},
   "outputs": [
    {
     "name": "stdout",
     "output_type": "stream",
     "text": [
      "          old_index         W         X         Y         Z\n",
      "new_index                                                  \n",
      "AA                A  0.304717 -1.039984  0.750451  0.940565\n",
      "BB                B -1.951035 -1.302180  0.127840 -0.316243\n",
      "CC                C -0.016801 -0.853044  0.879398  0.777792\n",
      "DD                D  0.066031  1.127241  0.467509 -0.859292\n",
      "EE                E  0.368751 -0.958883  0.878450 -0.049926\n"
     ]
    }
   ],
   "source": [
    "print(df)"
   ]
  },
  {
   "cell_type": "code",
   "execution_count": 260,
   "id": "7fd08403-3776-4b52-8c74-9a437c2059d1",
   "metadata": {},
   "outputs": [
    {
     "name": "stdout",
     "output_type": "stream",
     "text": [
      "<class 'pandas.core.frame.DataFrame'>\n",
      "Index: 5 entries, AA to EE\n",
      "Data columns (total 5 columns):\n",
      " #   Column     Non-Null Count  Dtype  \n",
      "---  ------     --------------  -----  \n",
      " 0   old_index  5 non-null      object \n",
      " 1   W          5 non-null      float64\n",
      " 2   X          5 non-null      float64\n",
      " 3   Y          5 non-null      float64\n",
      " 4   Z          5 non-null      float64\n",
      "dtypes: float64(4), object(1)\n",
      "memory usage: 240.0+ bytes\n"
     ]
    }
   ],
   "source": [
    "df.info()"
   ]
  },
  {
   "cell_type": "code",
   "execution_count": 261,
   "id": "7dc86640-be6d-426a-9705-fc71fc815447",
   "metadata": {},
   "outputs": [
    {
     "data": {
      "text/html": [
       "<div>\n",
       "<style scoped>\n",
       "    .dataframe tbody tr th:only-of-type {\n",
       "        vertical-align: middle;\n",
       "    }\n",
       "\n",
       "    .dataframe tbody tr th {\n",
       "        vertical-align: top;\n",
       "    }\n",
       "\n",
       "    .dataframe thead th {\n",
       "        text-align: right;\n",
       "    }\n",
       "</style>\n",
       "<table border=\"1\" class=\"dataframe\">\n",
       "  <thead>\n",
       "    <tr style=\"text-align: right;\">\n",
       "      <th></th>\n",
       "      <th>count</th>\n",
       "      <th>mean</th>\n",
       "      <th>std</th>\n",
       "      <th>min</th>\n",
       "      <th>25%</th>\n",
       "      <th>50%</th>\n",
       "      <th>75%</th>\n",
       "      <th>max</th>\n",
       "    </tr>\n",
       "  </thead>\n",
       "  <tbody>\n",
       "    <tr>\n",
       "      <th>W</th>\n",
       "      <td>5.0</td>\n",
       "      <td>-0.245668</td>\n",
       "      <td>0.966727</td>\n",
       "      <td>-1.951035</td>\n",
       "      <td>-0.016801</td>\n",
       "      <td>0.066031</td>\n",
       "      <td>0.304717</td>\n",
       "      <td>0.368751</td>\n",
       "    </tr>\n",
       "    <tr>\n",
       "      <th>X</th>\n",
       "      <td>5.0</td>\n",
       "      <td>-0.605370</td>\n",
       "      <td>0.982686</td>\n",
       "      <td>-1.302180</td>\n",
       "      <td>-1.039984</td>\n",
       "      <td>-0.958883</td>\n",
       "      <td>-0.853044</td>\n",
       "      <td>1.127241</td>\n",
       "    </tr>\n",
       "    <tr>\n",
       "      <th>Y</th>\n",
       "      <td>5.0</td>\n",
       "      <td>0.620730</td>\n",
       "      <td>0.322712</td>\n",
       "      <td>0.127840</td>\n",
       "      <td>0.467509</td>\n",
       "      <td>0.750451</td>\n",
       "      <td>0.878450</td>\n",
       "      <td>0.879398</td>\n",
       "    </tr>\n",
       "    <tr>\n",
       "      <th>Z</th>\n",
       "      <td>5.0</td>\n",
       "      <td>0.098579</td>\n",
       "      <td>0.755301</td>\n",
       "      <td>-0.859292</td>\n",
       "      <td>-0.316243</td>\n",
       "      <td>-0.049926</td>\n",
       "      <td>0.777792</td>\n",
       "      <td>0.940565</td>\n",
       "    </tr>\n",
       "  </tbody>\n",
       "</table>\n",
       "</div>"
      ],
      "text/plain": [
       "   count      mean       std       min       25%       50%       75%       max\n",
       "W    5.0 -0.245668  0.966727 -1.951035 -0.016801  0.066031  0.304717  0.368751\n",
       "X    5.0 -0.605370  0.982686 -1.302180 -1.039984 -0.958883 -0.853044  1.127241\n",
       "Y    5.0  0.620730  0.322712  0.127840  0.467509  0.750451  0.878450  0.879398\n",
       "Z    5.0  0.098579  0.755301 -0.859292 -0.316243 -0.049926  0.777792  0.940565"
      ]
     },
     "execution_count": 261,
     "metadata": {},
     "output_type": "execute_result"
    }
   ],
   "source": [
    "df.describe().T"
   ]
  },
  {
   "cell_type": "code",
   "execution_count": null,
   "id": "2bb951ba-e1f1-434d-8e45-ce0af86af0b0",
   "metadata": {},
   "outputs": [],
   "source": []
  },
  {
   "cell_type": "code",
   "execution_count": null,
   "id": "8c312130-c1a9-44ae-ba30-1a8e750834ef",
   "metadata": {},
   "outputs": [],
   "source": []
  }
 ],
 "metadata": {
  "kernelspec": {
   "display_name": "Python 3 (ipykernel)",
   "language": "python",
   "name": "python3"
  },
  "language_info": {
   "codemirror_mode": {
    "name": "ipython",
    "version": 3
   },
   "file_extension": ".py",
   "mimetype": "text/x-python",
   "name": "python",
   "nbconvert_exporter": "python",
   "pygments_lexer": "ipython3",
   "version": "3.7.12"
  },
  "toc-autonumbering": true
 },
 "nbformat": 4,
 "nbformat_minor": 5
}
