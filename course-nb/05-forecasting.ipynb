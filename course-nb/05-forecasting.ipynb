{
 "cells": [
  {
   "cell_type": "markdown",
   "id": "9080b1f8-349c-48eb-a62f-f3e9cc02c461",
   "metadata": {},
   "source": [
    "# General Forecasting"
   ]
  },
  {
   "cell_type": "code",
   "execution_count": 1,
   "id": "f4b8836a-3257-45bd-8285-67e4a3a30227",
   "metadata": {},
   "outputs": [],
   "source": [
    "import pandas as pd\n",
    "import numpy as np"
   ]
  },
  {
   "cell_type": "code",
   "execution_count": 53,
   "id": "fd37827e-aaa2-42e1-be32-f877a45454c6",
   "metadata": {},
   "outputs": [],
   "source": [
    "import pylab\n",
    "\n",
    "pylab.rc(\"figure\", figsize=(14, 8))\n",
    "pylab.rc(\"font\", size=14)"
   ]
  },
  {
   "cell_type": "code",
   "execution_count": 2,
   "id": "64e1a76e-17b2-48a2-8c83-650e31331c31",
   "metadata": {},
   "outputs": [],
   "source": [
    "file_name = \"/Users/aceituno/Desktop/projects/ws2122/tsa/course-material/Data/airline_passengers.csv\""
   ]
  },
  {
   "cell_type": "code",
   "execution_count": 3,
   "id": "10d33f34-1965-4b76-afa6-5e1f34ac590a",
   "metadata": {},
   "outputs": [],
   "source": [
    "df = pd.read_csv(file_name, index_col=\"Month\", parse_dates=True)"
   ]
  },
  {
   "cell_type": "code",
   "execution_count": 4,
   "id": "4c357556-3ddc-4d9b-83da-7442c7106790",
   "metadata": {},
   "outputs": [],
   "source": [
    "df.index.freq = \"MS\""
   ]
  },
  {
   "cell_type": "code",
   "execution_count": 5,
   "id": "ae79ad7d-51ec-4dcc-bb2f-28c5742f005f",
   "metadata": {},
   "outputs": [
    {
     "data": {
      "text/plain": [
       "Thousands of Passengers    0\n",
       "dtype: int64"
      ]
     },
     "execution_count": 5,
     "metadata": {},
     "output_type": "execute_result"
    }
   ],
   "source": [
    "df.isna().sum()"
   ]
  },
  {
   "cell_type": "code",
   "execution_count": 7,
   "id": "89187f92-d357-4d58-b17e-a705b5308db5",
   "metadata": {},
   "outputs": [
    {
     "data": {
      "text/plain": [
       "Index(['Thousands of Passengers'], dtype='object')"
      ]
     },
     "execution_count": 7,
     "metadata": {},
     "output_type": "execute_result"
    }
   ],
   "source": [
    "df.columns"
   ]
  },
  {
   "cell_type": "code",
   "execution_count": 8,
   "id": "7c1f0a94-760f-43a6-9f6d-c290974939a9",
   "metadata": {},
   "outputs": [],
   "source": [
    "df['psg'] = df['Thousands of Passengers']"
   ]
  },
  {
   "cell_type": "code",
   "execution_count": 10,
   "id": "8051728b-3fb3-4422-aadd-fe551d884272",
   "metadata": {},
   "outputs": [],
   "source": [
    "df.drop('Thousands of Passengers', axis=1, inplace=True)"
   ]
  },
  {
   "cell_type": "code",
   "execution_count": 22,
   "id": "4cd5f7d6-778d-42f0-b4fb-4f8b1009d78c",
   "metadata": {},
   "outputs": [
    {
     "data": {
      "text/html": [
       "<div>\n",
       "<style scoped>\n",
       "    .dataframe tbody tr th:only-of-type {\n",
       "        vertical-align: middle;\n",
       "    }\n",
       "\n",
       "    .dataframe tbody tr th {\n",
       "        vertical-align: top;\n",
       "    }\n",
       "\n",
       "    .dataframe thead th {\n",
       "        text-align: right;\n",
       "    }\n",
       "</style>\n",
       "<table border=\"1\" class=\"dataframe\">\n",
       "  <thead>\n",
       "    <tr style=\"text-align: right;\">\n",
       "      <th></th>\n",
       "      <th>count</th>\n",
       "      <th>mean</th>\n",
       "      <th>std</th>\n",
       "      <th>min</th>\n",
       "      <th>25%</th>\n",
       "      <th>50%</th>\n",
       "      <th>75%</th>\n",
       "      <th>max</th>\n",
       "      <th>range</th>\n",
       "    </tr>\n",
       "  </thead>\n",
       "  <tbody>\n",
       "    <tr>\n",
       "      <th>psg</th>\n",
       "      <td>144.0</td>\n",
       "      <td>280.298611</td>\n",
       "      <td>119.966317</td>\n",
       "      <td>104.0</td>\n",
       "      <td>180.0</td>\n",
       "      <td>265.5</td>\n",
       "      <td>360.5</td>\n",
       "      <td>622.0</td>\n",
       "      <td>518.0</td>\n",
       "    </tr>\n",
       "  </tbody>\n",
       "</table>\n",
       "</div>"
      ],
      "text/plain": [
       "     count        mean         std    min    25%    50%    75%    max  range\n",
       "psg  144.0  280.298611  119.966317  104.0  180.0  265.5  360.5  622.0  518.0"
      ]
     },
     "execution_count": 22,
     "metadata": {},
     "output_type": "execute_result"
    }
   ],
   "source": [
    "def describe2(df):\n",
    "    df_res = df.describe()\n",
    "    df_res.loc['range'] = df_res.loc['max'] - df_res.loc['min']\n",
    "    return df_res\n",
    "\n",
    "\n",
    "describe2(df).T"
   ]
  },
  {
   "cell_type": "markdown",
   "id": "fd3b51a6-9036-4944-8509-22cddf801e16",
   "metadata": {},
   "source": [
    "## Test Train Split"
   ]
  },
  {
   "cell_type": "code",
   "execution_count": 114,
   "id": "852b3680-e998-4aee-a5a1-f9455cff7e39",
   "metadata": {},
   "outputs": [
    {
     "data": {
      "text/plain": [
       "115.2"
      ]
     },
     "execution_count": 114,
     "metadata": {},
     "output_type": "execute_result"
    }
   ],
   "source": [
    "len(df) * 0.8"
   ]
  },
  {
   "cell_type": "code",
   "execution_count": 130,
   "id": "600e9754-f2f1-4884-808e-1f14b1181f81",
   "metadata": {},
   "outputs": [],
   "source": [
    "# Split the data\n",
    "train = df.iloc[:115]\n",
    "test = df.iloc[114:]"
   ]
  },
  {
   "cell_type": "code",
   "execution_count": 116,
   "id": "cc932cc3-99cc-4f12-a2b3-abfe3e9e5156",
   "metadata": {},
   "outputs": [],
   "source": [
    "# import statsmodels.api as sm"
   ]
  },
  {
   "cell_type": "code",
   "execution_count": 118,
   "id": "e998cf71-0297-4488-8f74-ea7e3bdf5fef",
   "metadata": {},
   "outputs": [],
   "source": [
    "# df.dropna(inplace=True)"
   ]
  },
  {
   "cell_type": "code",
   "execution_count": 119,
   "id": "187c9b41-46f5-4576-ba5e-2cbfb8cf8ba7",
   "metadata": {},
   "outputs": [],
   "source": [
    "from statsmodels.tsa.holtwinters import ExponentialSmoothing"
   ]
  },
  {
   "cell_type": "code",
   "execution_count": 77,
   "id": "6c0bad2e-40d9-4d0f-8c37-6fdd5ca3b624",
   "metadata": {},
   "outputs": [],
   "source": [
    "# f_model = ExponentialSmoothing(train.psg, trend='mul',\n",
    "#                                seasonal_periods=12).fit()"
   ]
  },
  {
   "cell_type": "code",
   "execution_count": 139,
   "id": "6497653f-6972-45c7-8725-2d869a8f8807",
   "metadata": {},
   "outputs": [],
   "source": [
    "mod = ExponentialSmoothing(train.psg,trend='mul',seasonal='mul',seasonal_periods=12)"
   ]
  },
  {
   "cell_type": "code",
   "execution_count": 142,
   "id": "2eeec7c6-f85e-4b3f-bf46-1632dafd38c6",
   "metadata": {},
   "outputs": [],
   "source": [
    "f_mod = mod.fit()"
   ]
  },
  {
   "cell_type": "code",
   "execution_count": 143,
   "id": "622eaefb-5134-41e4-8426-3e149b8192d4",
   "metadata": {},
   "outputs": [
    {
     "data": {
      "text/html": [
       "<table class=\"simpletable\">\n",
       "<caption>ExponentialSmoothing Model Results</caption>\n",
       "<tr>\n",
       "  <th>Dep. Variable:</th>             <td>psg</td>         <th>  No. Observations:  </th>        <td>115</td>      \n",
       "</tr>\n",
       "<tr>\n",
       "  <th>Model:</th>            <td>ExponentialSmoothing</td> <th>  SSE                </th>       <td>  nan</td>     \n",
       "</tr>\n",
       "<tr>\n",
       "  <th>Optimized:</th>                <td>True</td>         <th>  AIC                </th>       <td>  nan</td>     \n",
       "</tr>\n",
       "<tr>\n",
       "  <th>Trend:</th>               <td>Multiplicative</td>    <th>  BIC                </th>       <td>  nan</td>     \n",
       "</tr>\n",
       "<tr>\n",
       "  <th>Seasonal:</th>            <td>Multiplicative</td>    <th>  AICC               </th>       <td>  nan</td>     \n",
       "</tr>\n",
       "<tr>\n",
       "  <th>Seasonal Periods:</th>          <td>12</td>          <th>  Date:              </th> <td>Thu, 03 Mar 2022</td>\n",
       "</tr>\n",
       "<tr>\n",
       "  <th>Box-Cox:</th>                  <td>False</td>        <th>  Time:              </th>     <td>19:49:37</td>    \n",
       "</tr>\n",
       "<tr>\n",
       "  <th>Box-Cox Coeff.:</th>           <td>None</td>         <th>                     </th>         <td> </td>       \n",
       "</tr>\n",
       "</table>\n",
       "<table class=\"simpletable\">\n",
       "<tr>\n",
       "           <td></td>                  <th>coeff</th>                <th>code</th>               <th>optimized</th>     \n",
       "</tr>\n",
       "<tr>\n",
       "  <th>smoothing_level</th>    <td>                 nan</td> <td>               alpha</td> <td>                True</td>\n",
       "</tr>\n",
       "<tr>\n",
       "  <th>smoothing_trend</th>    <td>                 nan</td> <td>                beta</td> <td>                True</td>\n",
       "</tr>\n",
       "<tr>\n",
       "  <th>smoothing_seasonal</th> <td>                 nan</td> <td>               gamma</td> <td>                True</td>\n",
       "</tr>\n",
       "<tr>\n",
       "  <th>initial_level</th>      <td>                 nan</td> <td>                 l.0</td> <td>                True</td>\n",
       "</tr>\n",
       "<tr>\n",
       "  <th>initial_trend</th>      <td>                 nan</td> <td>                 b.0</td> <td>                True</td>\n",
       "</tr>\n",
       "<tr>\n",
       "  <th>initial_seasons.0</th>  <td>                 nan</td> <td>                 s.0</td> <td>                True</td>\n",
       "</tr>\n",
       "<tr>\n",
       "  <th>initial_seasons.1</th>  <td>                 nan</td> <td>                 s.1</td> <td>                True</td>\n",
       "</tr>\n",
       "<tr>\n",
       "  <th>initial_seasons.2</th>  <td>                 nan</td> <td>                 s.2</td> <td>                True</td>\n",
       "</tr>\n",
       "<tr>\n",
       "  <th>initial_seasons.3</th>  <td>                 nan</td> <td>                 s.3</td> <td>                True</td>\n",
       "</tr>\n",
       "<tr>\n",
       "  <th>initial_seasons.4</th>  <td>                 nan</td> <td>                 s.4</td> <td>                True</td>\n",
       "</tr>\n",
       "<tr>\n",
       "  <th>initial_seasons.5</th>  <td>                 nan</td> <td>                 s.5</td> <td>                True</td>\n",
       "</tr>\n",
       "<tr>\n",
       "  <th>initial_seasons.6</th>  <td>                 nan</td> <td>                 s.6</td> <td>                True</td>\n",
       "</tr>\n",
       "<tr>\n",
       "  <th>initial_seasons.7</th>  <td>                 nan</td> <td>                 s.7</td> <td>                True</td>\n",
       "</tr>\n",
       "<tr>\n",
       "  <th>initial_seasons.8</th>  <td>                 nan</td> <td>                 s.8</td> <td>                True</td>\n",
       "</tr>\n",
       "<tr>\n",
       "  <th>initial_seasons.9</th>  <td>                 nan</td> <td>                 s.9</td> <td>                True</td>\n",
       "</tr>\n",
       "<tr>\n",
       "  <th>initial_seasons.10</th> <td>                 nan</td> <td>                s.10</td> <td>                True</td>\n",
       "</tr>\n",
       "<tr>\n",
       "  <th>initial_seasons.11</th> <td>                 nan</td> <td>                s.11</td> <td>                True</td>\n",
       "</tr>\n",
       "</table>"
      ],
      "text/plain": [
       "<class 'statsmodels.iolib.summary.Summary'>\n",
       "\"\"\"\n",
       "                       ExponentialSmoothing Model Results                       \n",
       "================================================================================\n",
       "Dep. Variable:                      psg   No. Observations:                  115\n",
       "Model:             ExponentialSmoothing   SSE                                nan\n",
       "Optimized:                         True   AIC                                nan\n",
       "Trend:                   Multiplicative   BIC                                nan\n",
       "Seasonal:                Multiplicative   AICC                               nan\n",
       "Seasonal Periods:                    12   Date:                 Thu, 03 Mar 2022\n",
       "Box-Cox:                          False   Time:                         19:49:37\n",
       "Box-Cox Coeff.:                    None                                         \n",
       "=================================================================================\n",
       "                          coeff                 code              optimized      \n",
       "---------------------------------------------------------------------------------\n",
       "smoothing_level                     nan                alpha                 True\n",
       "smoothing_trend                     nan                 beta                 True\n",
       "smoothing_seasonal                  nan                gamma                 True\n",
       "initial_level                       nan                  l.0                 True\n",
       "initial_trend                       nan                  b.0                 True\n",
       "initial_seasons.0                   nan                  s.0                 True\n",
       "initial_seasons.1                   nan                  s.1                 True\n",
       "initial_seasons.2                   nan                  s.2                 True\n",
       "initial_seasons.3                   nan                  s.3                 True\n",
       "initial_seasons.4                   nan                  s.4                 True\n",
       "initial_seasons.5                   nan                  s.5                 True\n",
       "initial_seasons.6                   nan                  s.6                 True\n",
       "initial_seasons.7                   nan                  s.7                 True\n",
       "initial_seasons.8                   nan                  s.8                 True\n",
       "initial_seasons.9                   nan                  s.9                 True\n",
       "initial_seasons.10                  nan                 s.10                 True\n",
       "initial_seasons.11                  nan                 s.11                 True\n",
       "---------------------------------------------------------------------------------\n",
       "\"\"\""
      ]
     },
     "execution_count": 143,
     "metadata": {},
     "output_type": "execute_result"
    }
   ],
   "source": [
    "f_mod.summary()"
   ]
  },
  {
   "cell_type": "code",
   "execution_count": 144,
   "id": "3f84ded7-d634-42ff-9c9a-4b0d66730c2c",
   "metadata": {},
   "outputs": [
    {
     "data": {
      "text/plain": [
       "<AxesSubplot:xlabel='Month'>"
      ]
     },
     "execution_count": 144,
     "metadata": {},
     "output_type": "execute_result"
    },
    {
     "data": {
      "image/png": "[encoded data removed]",
      "text/plain": [
       "<Figure size 1008x576 with 1 Axes>"
      ]
     },
     "metadata": {
      "needs_background": "light"
     },
     "output_type": "display_data"
    }
   ],
   "source": [
    "f_mod.fittedvalues.plot()"
   ]
  },
  {
   "cell_type": "code",
   "execution_count": 148,
   "id": "6fa48e99-d929-450b-b4e2-69566a43a8b0",
   "metadata": {},
   "outputs": [
    {
     "data": {
      "text/plain": [
       "1958-08-01   NaN\n",
       "Freq: MS, dtype: float64"
      ]
     },
     "execution_count": 148,
     "metadata": {},
     "output_type": "execute_result"
    }
   ],
   "source": [
    "f_mod.forecast()"
   ]
  },
  {
   "cell_type": "code",
   "execution_count": 128,
   "id": "89885784-7ad7-4ca8-a371-9441886ddcc4",
   "metadata": {},
   "outputs": [
    {
     "data": {
      "text/plain": [
       "<AxesSubplot:xlabel='Month'>"
      ]
     },
     "execution_count": 128,
     "metadata": {},
     "output_type": "execute_result"
    },
    {
     "data": {
      "image/png": "[encoded data removed]",
      "text/plain": [
       "<Figure size 1008x576 with 1 Axes>"
      ]
     },
     "metadata": {
      "needs_background": "light"
     },
     "output_type": "display_data"
    }
   ],
   "source": [
    "train.psg.plot(legend=True, label=\"Train data\")\n",
    "test.psg.plot(legend=True, label=\"Test data\")\n",
    "pred.plot(legend=True, label=\"Pred\")"
   ]
  },
  {
   "cell_type": "code",
   "execution_count": null,
   "id": "c92399cb-292b-4839-97f3-27e56579440e",
   "metadata": {},
   "outputs": [],
   "source": []
  }
 ],
 "metadata": {
  "kernelspec": {
   "display_name": "Python 3 (ipykernel)",
   "language": "python",
   "name": "python3"
  },
  "language_info": {
   "codemirror_mode": {
    "name": "ipython",
    "version": 3
   },
   "file_extension": ".py",
   "mimetype": "text/x-python",
   "name": "python",
   "nbconvert_exporter": "python",
   "pygments_lexer": "ipython3",
   "version": "3.7.12"
  },
  "toc-autonumbering": true
 },
 "nbformat": 4,
 "nbformat_minor": 5
}
